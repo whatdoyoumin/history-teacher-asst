{
 "cells": [
  {
   "cell_type": "code",
   "execution_count": 6,
   "id": "a42e4201-c89c-426e-953d-2fee2a7279aa",
   "metadata": {},
   "outputs": [],
   "source": [
    "import os\n",
    "from dotenv import load_dotenv\n",
    "\n",
    "# Load environment variables from .env file\n",
    "load_dotenv()\n",
    "\n",
    "# Get OpenAI API Key\n",
    "#OPENAI_API_KEY = \"\""
   ]
  },
  {
   "cell_type": "code",
   "execution_count": 9,
   "id": "8fc3a3bc-e17d-44e0-8cf7-4e87049dae0e",
   "metadata": {},
   "outputs": [
    {
     "name": "stderr",
     "output_type": "stream",
     "text": [
      "C:\\Users\\minli\\AppData\\Local\\Temp\\ipykernel_26780\\1800588230.py:4: LangChainDeprecationWarning: The class `ChatOpenAI` was deprecated in LangChain 0.0.10 and will be removed in 1.0. An updated version of the class exists in the :class:`~langchain-openai package and should be used instead. To use it run `pip install -U :class:`~langchain-openai` and import as `from :class:`~langchain_openai import ChatOpenAI``.\n",
      "  llm = ChatOpenAI(temperature=0, openai_api_key=OPENAI_API_KEY)\n",
      "C:\\Users\\minli\\anaconda3\\Lib\\site-packages\\langsmith\\client.py:323: LangSmithMissingAPIKeyWarning: API key must be provided when using hosted LangSmith API\n",
      "  warnings.warn(\n"
     ]
    },
    {
     "ename": "NameError",
     "evalue": "name 'OpenAI' is not defined",
     "output_type": "error",
     "traceback": [
      "\u001b[1;31m---------------------------------------------------------------------------\u001b[0m",
      "\u001b[1;31mNameError\u001b[0m                                 Traceback (most recent call last)",
      "Cell \u001b[1;32mIn[9], line 43\u001b[0m\n\u001b[0;32m     39\u001b[0m \u001b[38;5;28;01mfrom\u001b[39;00m \u001b[38;5;21;01mlangchain\u001b[39;00m \u001b[38;5;28;01mimport\u001b[39;00m hub\n\u001b[0;32m     40\u001b[0m rag_prompt \u001b[38;5;241m=\u001b[39m hub\u001b[38;5;241m.\u001b[39mpull(\u001b[38;5;124m\"\u001b[39m\u001b[38;5;124mrlm/rag-prompt\u001b[39m\u001b[38;5;124m\"\u001b[39m)\n\u001b[1;32m---> 43\u001b[0m llm \u001b[38;5;241m=\u001b[39m OpenAI(temperature\u001b[38;5;241m=\u001b[39m\u001b[38;5;241m0\u001b[39m, openai_api_key\u001b[38;5;241m=\u001b[39mOPENAI_API_KEY)\n\u001b[0;32m     45\u001b[0m \u001b[38;5;66;03m# Instantiate RAG chain:\u001b[39;00m\n\u001b[0;32m     46\u001b[0m \u001b[38;5;28;01mfrom\u001b[39;00m \u001b[38;5;21;01mlangchain\u001b[39;00m\u001b[38;5;21;01m.\u001b[39;00m\u001b[38;5;21;01mschema\u001b[39;00m\u001b[38;5;21;01m.\u001b[39;00m\u001b[38;5;21;01mrunnable\u001b[39;00m \u001b[38;5;28;01mimport\u001b[39;00m RunnablePassthrough\n",
      "\u001b[1;31mNameError\u001b[0m: name 'OpenAI' is not defined"
     ]
    }
   ],
   "source": [
    "# Use it in your LLM model\n",
    "from langchain.chat_models import ChatOpenAI\n",
    "\n",
    "llm = ChatOpenAI(temperature=0, openai_api_key=OPENAI_API_KEY)\n",
    "\n",
    "\n",
    "from langchain.document_loaders import PyPDFLoader\n",
    "loader = PyPDFLoader(\"sec1.pdf\")\n",
    "\n",
    "from langchain.vectorstores import Chroma\n",
    "from langchain_openai import OpenAIEmbeddings\n",
    "\n",
    "embedding_model = OpenAIEmbeddings(model=\"text-embedding-3-small\",openai_api_key=OPENAI_API_KEY)\n",
    " \n",
    "\n",
    "# Split content into chunks.\n",
    "# Import a splitter module called RecursiveCharacterTextSplitter:\n",
    "from langchain.text_splitter import RecursiveCharacterTextSplitter\n",
    "# Instantiate the splitter:\n",
    "text_splitter = RecursiveCharacterTextSplitter(chunk_size=500, chunk_overlap=0)\n",
    "# Do the splitting:\n",
    "splits = text_splitter.split_documents(loader.load())\n",
    "\n",
    "# Embed and store splits in Chroma database.\n",
    "# Import the Chroma and embeddings modules:\n",
    "from langchain.vectorstores import Chroma\n",
    "# from langchain.embeddings import OpenAIEmbeddings\n",
    "# Instantiate the Chroma vector store with arguments:\n",
    "vectorstore = Chroma.from_documents(\n",
    "    documents=splits,\n",
    "    embedding=embedding_model\n",
    ")\n",
    "# Instantiate a retriever based on the vector store:\n",
    "retriever = vectorstore.as_retriever()\n",
    "\n",
    "# Instantiate a prompt.\n",
    "# We will use a standard RAG prompt downloaded from Langsmith:\n",
    "# https://smith.langchain.com/hub/rlm/rag-prompt\n",
    "from langchain import hub\n",
    "rag_prompt = hub.pull(\"rlm/rag-prompt\")\n",
    "\n",
    "\n",
    "#llm = OpenAI(temperature=0, openai_api_key=OPENAI_API_KEY)\n",
    "\n",
    "# Instantiate RAG chain:\n",
    "from langchain.schema.runnable import RunnablePassthrough\n",
    "rag_chain = (\n",
    "    {\"context\": retriever, \"question\": RunnablePassthrough()}\n",
    "    | rag_prompt\n",
    "    | llm\n",
    ")\n",
    "\n",
    "completion = rag_chain.invoke(\"Who is the founder of Singapore?\")\n",
    "print(completion.content)\n"
   ]
  },
  {
   "cell_type": "code",
   "execution_count": 12,
   "id": "e4296744-bb35-447a-b30c-e13842c33140",
   "metadata": {},
   "outputs": [
    {
     "name": "stderr",
     "output_type": "stream",
     "text": [
      "C:\\Users\\minli\\anaconda3\\Lib\\site-packages\\langsmith\\client.py:323: LangSmithMissingAPIKeyWarning: API key must be provided when using hosted LangSmith API\n",
      "  warnings.warn(\n"
     ]
    },
    {
     "data": {
      "text/plain": [
       "ChatPromptTemplate(input_variables=['context', 'question'], input_types={}, partial_variables={}, metadata={'lc_hub_owner': 'rlm', 'lc_hub_repo': 'rag-prompt', 'lc_hub_commit_hash': '50442af133e61576e74536c6556cefe1fac147cad032f4377b60c436e6cdcb6e'}, messages=[HumanMessagePromptTemplate(prompt=PromptTemplate(input_variables=['context', 'question'], input_types={}, partial_variables={}, template=\"You are an assistant for question-answering tasks. Use the following pieces of retrieved context to answer the question. If you don't know the answer, just say that you don't know. Use three sentences maximum and keep the answer concise.\\nQuestion: {question} \\nContext: {context} \\nAnswer:\"), additional_kwargs={})])"
      ]
     },
     "execution_count": 12,
     "metadata": {},
     "output_type": "execute_result"
    }
   ],
   "source": [
    "from langchain import hub\n",
    "rag_prompt = hub.pull(\"rlm/rag-prompt\")\n",
    "rag_prompt"
   ]
  },
  {
   "cell_type": "code",
   "execution_count": 13,
   "id": "4b7fee0f-d525-4016-95da-d30669033780",
   "metadata": {},
   "outputs": [
    {
     "name": "stdout",
     "output_type": "stream",
     "text": [
      "The founder of Singapore is often recognized as Sir Stamford Raffles, who signed the 1819 Treaty allowing the British to establish a trading post in the southern part of Singapore. However, some argue that William Farquhar and John Crawfurd also played significant roles in the founding of Singapore through their respective treaties and contributions to the development of the island. Ultimately, the question of who founded Singapore may vary depending on different perspectives and interpretations of what it means to be a founder.\n"
     ]
    }
   ],
   "source": [
    "# Instantiate RAG chain:\n",
    "from langchain.schema.runnable import RunnablePassthrough\n",
    "rag_chain = (\n",
    "    {\"context\": retriever, \"question\": RunnablePassthrough()}\n",
    "    | rag_prompt\n",
    "    | llm\n",
    ")\n",
    "\n",
    "completion = rag_chain.invoke(\"Who is the founder of Singapore?\")\n",
    "print(completion.content)\n"
   ]
  },
  {
   "cell_type": "markdown",
   "id": "45225692-0b31-4043-a7f7-7c1e9d990d68",
   "metadata": {},
   "source": [
    "## trying with a custom prompt template"
   ]
  },
  {
   "cell_type": "code",
   "execution_count": 15,
   "id": "ead4016c-8221-4cc5-b0f9-457ae3c34580",
   "metadata": {},
   "outputs": [
    {
     "name": "stdout",
     "output_type": "stream",
     "text": [
      "Perspective 1: Sir Stamford Raffles\n",
      "Summary: Some argue that Sir Stamford Raffles should be considered the founder of Singapore because he signed the 1819 Treaty that allowed the British to establish a trading post in the southern part of Singapore. Raffles' role in the establishment of Singapore is often highlighted in historical narratives.\n",
      "\n",
      "Perspective 2: William Farquhar\n",
      "Summary: Others contend that William Farquhar should be recognized as the founder of Singapore because he played a significant role in building Singapore from scratch. Farquhar's contributions to the early development of Singapore are noteworthy and cannot be overlooked.\n",
      "\n",
      "Perspective 3: John Crawfurd\n",
      "Summary: There are those who consider John Crawfurd as the founder of Singapore because he signed the 1824 Treaty of Friendship and Alliance that gave the British control over the entire island. Crawfurd's diplomatic efforts and contributions to the British control over Singapore are also significant.\n",
      "\n",
      "Discussion Questions:\n",
      "1. How do the perspectives on the founder of Singapore differ based on the specific actions and roles of Raffles, Farquhar, and Crawfurd in the historical context?\n",
      "2. What criteria should be used to determine who can be considered the founder of a place, and how do these criteria apply to the case of Singapore's founding?\n",
      "3. How might the perspectives on the founder of Singapore influence our understanding of the country's history and identity today?\n"
     ]
    }
   ],
   "source": [
    "from langchain.prompts import PromptTemplate\n",
    "from langchain.schema.runnable import RunnablePassthrough, RunnableLambda\n",
    "from langchain.chains import LLMChain\n",
    "from langchain.chat_models import ChatOpenAI\n",
    "\n",
    "# Define prompt template\n",
    "rag_prompt_template = PromptTemplate(\n",
    "    input_variables=[\"context\", \"question\"],\n",
    "    template=\"\"\"\n",
    "You are the Heritage Education Research Assistant, an AI-powered tool designed to help educators in Singapore create comprehensive and balanced lesson plans about Singapore's history and culture. Your task is to provide multiple perspectives on historical questions, with a focus on validated sources from the National Heritage Board (NHB) and other reputable institutions.\n",
    "\n",
    "Given a user's question and any provided filters (student age group, historical timeframe, theme), please:\n",
    "\n",
    "1. Generate 3-5 different perspectives on the question, each with a brief summary (2-3 sentences) explaining the reasoning behind that perspective.\n",
    "2. Ensure that the language and content complexity is appropriate for the specified student age group (if provided).\n",
    "3. If a specific historical timeframe or theme is specified, tailor your responses to fit within those parameters.\n",
    "4. After presenting the perspectives, suggest 2-3 discussion questions that could encourage critical thinking among students about these different viewpoints.\n",
    "\n",
    "Remember, your goal is to provide educators with balanced, well-sourced information that they can use to create engaging and thought-provoking lessons about Singapore's history and culture.\n",
    "\n",
    "Context: {context}\n",
    "\n",
    "Question: {question}\n",
    "\"\"\"\n",
    ")\n",
    "\n",
    "# # Initialize LLM\n",
    "# llm = ChatOpenAI()\n",
    "\n",
    "# Ensure retriever only gets the question string, not a dictionary\n",
    "def extract_question(inputs):\n",
    "    return inputs[\"question\"]\n",
    "\n",
    "# Define RAG chain\n",
    "rag_chain = (\n",
    "    {\"context\": RunnableLambda(extract_question) | retriever, \"question\": RunnablePassthrough()}\n",
    "    | rag_prompt_template\n",
    "    | llm\n",
    ")\n",
    "\n",
    "# Invoke\n",
    "completion = rag_chain.invoke({\"question\": \"Who is the founder of Singapore?\"})\n",
    "print(completion.content)\n"
   ]
  },
  {
   "cell_type": "code",
   "execution_count": 17,
   "id": "7e4402df-38b2-41cf-9293-a672e74f77f0",
   "metadata": {},
   "outputs": [
    {
     "name": "stdout",
     "output_type": "stream",
     "text": [
      "Perspective 1: Limited British Focus on Education (1819-1867)\n",
      "Summary: During Singapore's early years under British rule, education was not a priority for the colonial government. The focus was primarily on trade and administration, leading to minimal investment in education and healthcare services for the local population.\n",
      "\n",
      "Perspective 2: Growth of Chinese Schools and Missionary Schools (1867-1942)\n",
      "Summary: In the late 19th and early 20th centuries, Singapore saw the emergence of Chinese schools established by the Chinese community and schools run by Christian missionaries. These institutions played a significant role in providing education to different segments of the population, with varying degrees of autonomy from government interference.\n",
      "\n",
      "Perspective 3: Expansion of Educational Activities (1867-1942)\n",
      "Summary: From 1867 onwards, there was a notable growth in educational activities in Singapore. This period marked an expansion of education based on the principle of meeting the evolving needs of society, leading to the establishment of various schools and educational initiatives catering to different communities.\n",
      "\n",
      "Discussion Questions:\n",
      "1. How did the differing approaches to education by the British colonial government, Chinese community, and Christian missionaries shape the development of Singapore's education system?\n",
      "2. In what ways did the changing priorities and investments in education reflect broader societal changes and aspirations in Singapore during the 19th and early 20th centuries?\n",
      "3. What role did cultural and community influences play in the establishment and management of schools in Singapore, and how did these factors contribute to the diversity of educational opportunities available to the population?\n"
     ]
    }
   ],
   "source": [
    "completion = rag_chain.invoke({\"question\": \"How has Singapore’s education system changed over the decades?\"})\n",
    "print(completion.content)"
   ]
  },
  {
   "cell_type": "markdown",
   "id": "cea71d07-2d49-4646-8383-558792fbaebc",
   "metadata": {},
   "source": [
    "## Other Possible Sample Questions\n",
    "Here are some alternative questions your RAG chatbot could answer, covering a range of historical, cultural, and societal topics related to Singapore:\n",
    "\n",
    "Founding & Early History\n",
    "How did Stamford Raffles’ role in Singapore’s founding compare to William Farquhar’s contributions?\n",
    "What were the key reasons for the British choosing Singapore as a trading post in 1819?\n",
    "What was Singapore like before British colonization?\n",
    "How did indigenous communities like the Orang Laut contribute to early Singapore’s development?\n",
    "Colonial & Wartime Singapore\n",
    "How did British colonial rule impact Singapore’s economy and society?\n",
    "What were the main causes and consequences of the 1915 Singapore Mutiny?\n",
    "How did World War II and the Japanese occupation shape Singapore’s national identity?\n",
    "What were the living conditions like for civilians during the Japanese Occupation?\n",
    "Post-War & Independence\n",
    "What were the key factors leading to Singapore’s independence from Malaysia in 1965?\n",
    "How did Lee Kuan Yew’s leadership shape Singapore’s early years as an independent nation?\n",
    "What were the major challenges Singapore faced immediately after independence?\n",
    "How did Singapore’s economic policies in the 1960s and 70s contribute to its rapid development?\n",
    "Immigration & Multiculturalism\n",
    "How have different waves of immigration shaped Singapore’s cultural landscape?\n",
    "What was the role of Chinese, Malay, Indian, and Eurasian communities in shaping Singapore’s identity?\n",
    "How has Singapore’s housing policy influenced racial integration and social cohesion?\n",
    "Social Policies & National Identity\n",
    "What are the origins and significance of Singapore’s bilingual education policy?\n",
    "How has the concept of ‘kiasu’ influenced Singaporean society?\n",
    "What is the role of National Service in shaping Singaporean national identity?\n",
    "How has the Speak Mandarin Campaign influenced Singapore’s linguistic landscape?\n",
    "Economic & Urban Development\n",
    "How did Singapore transition from a third-world country to a first-world nation?\n",
    "What role has the Port of Singapore played in the country’s economic success?\n",
    "How has urban planning shaped modern Singapore?\n",
    "What were the key challenges and benefits of Singapore’s Smart Nation initiative?\n",
    "Politics & Governance\n",
    "How has the PAP maintained political dominance in Singapore since independence?\n",
    "What were the key differences between the governance styles of Lee Kuan Yew, Goh Chok Tong, and Lee Hsien Loong?\n",
    "How does Singapore’s approach to governance differ from other Southeast Asian nations?\n",
    "What are the main checks and balances on political power in Singapore?\n",
    "Environmental & Sustainability Issues\n",
    "How has Singapore tackled water scarcity over the years?\n",
    "What are some major environmental challenges Singapore faces today?\n",
    "How has land reclamation shaped Singapore’s geography and economy?\n",
    "What initiatives has Singapore undertaken to become a more sustainable city?\n",
    "Culture, Arts & Heritage\n",
    "How has Singapore’s hawker culture evolved over time?\n",
    "What role do traditional festivals play in Singapore’s multicultural society?\n",
    "How has the Peranakan culture influenced Singapore’s food, language, and traditions?\n",
    "What is the significance of heritage conservation efforts in Singapore?\n",
    "Education & Social Change\n",
    "How has Singapore’s education system changed over the decades?\n",
    "What are the pros and cons of the streaming system in Singaporean schools?\n",
    "How does Singapore’s meritocratic system impact social mobility?\n",
    "What role has technology played in transforming education in Singapore?\n",
    "International Relations & Security\n",
    "How has Singapore managed to maintain diplomatic neutrality in global conflicts?\n",
    "What are the key aspects of Singapore’s defense strategy?\n",
    "How does Singapore balance its relationships with the US, China, and ASEAN countries?\n",
    "Would you like me to refine or categorize these questions differently based on your specific focus areas?"
   ]
  },
  {
   "cell_type": "code",
   "execution_count": null,
   "id": "e8d1585a-bb2a-4ab6-bf31-8919c5371c61",
   "metadata": {},
   "outputs": [],
   "source": []
  }
 ],
 "metadata": {
  "kernelspec": {
   "display_name": "Python 3 (ipykernel)",
   "language": "python",
   "name": "python3"
  },
  "language_info": {
   "codemirror_mode": {
    "name": "ipython",
    "version": 3
   },
   "file_extension": ".py",
   "mimetype": "text/x-python",
   "name": "python",
   "nbconvert_exporter": "python",
   "pygments_lexer": "ipython3",
   "version": "3.11.7"
  }
 },
 "nbformat": 4,
 "nbformat_minor": 5
}

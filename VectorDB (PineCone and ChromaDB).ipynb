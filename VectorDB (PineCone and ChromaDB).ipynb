{
 "cells": [
  {
   "cell_type": "code",
   "execution_count": 1,
   "id": "1d99b75b-24d3-4c39-b616-a040ace617f7",
   "metadata": {},
   "outputs": [
    {
     "data": {
      "text/plain": [
       "True"
      ]
     },
     "execution_count": 1,
     "metadata": {},
     "output_type": "execute_result"
    }
   ],
   "source": [
    "\n",
    "import os\n",
    "from dotenv import load_dotenv\n",
    "\n",
    "# Load environment variables from .env file\n",
    "load_dotenv()\n",
    "\n",
    "# Check if a specific variable is loaded\n",
    "#print(os.getenv(\"OPENAI_API_KEY\"))"
   ]
  },
  {
   "cell_type": "code",
   "execution_count": 12,
   "id": "c0754f00-a8d9-4562-b5ad-46309c24cb03",
   "metadata": {},
   "outputs": [],
   "source": [
    "import os\n",
    "\n",
    "if \"OPENAI_API_KEY\" in os.environ:\n",
    "    del os.environ[\"OPENAI_API_KEY\"]"
   ]
  },
  {
   "cell_type": "code",
   "execution_count": 3,
   "id": "b97f8a86-bcb5-4068-b405-6df9f8ef8668",
   "metadata": {},
   "outputs": [
    {
     "name": "stdout",
     "output_type": "stream",
     "text": [
      "Documents loaded from file.\n"
     ]
    }
   ],
   "source": [
    "import pickle\n",
    "\n",
    "# Load the processed documents from the pickle file\n",
    "with open('textbooks.pkl', 'rb') as f:\n",
    "    pdf_documents = pickle.load(f)\n",
    "\n",
    "print(\"Documents loaded from file.\")\n"
   ]
  },
  {
   "cell_type": "code",
   "execution_count": 5,
   "id": "777f882a-e2d9-4dc8-b950-97bf21db0b07",
   "metadata": {},
   "outputs": [
    {
     "name": "stdout",
     "output_type": "stream",
     "text": [
      "Documents loaded from file.\n"
     ]
    }
   ],
   "source": [
    "# Load the processed documents from the pickle file\n",
    "with open('infopedia.pickle', 'rb') as f:\n",
    "    infopedia = pickle.load(f)\n",
    "\n",
    "print(\"Documents loaded from file.\")"
   ]
  },
  {
   "cell_type": "code",
   "execution_count": 7,
   "id": "7de19f64-1800-4771-a750-fe98987c77cb",
   "metadata": {},
   "outputs": [
    {
     "name": "stdout",
     "output_type": "stream",
     "text": [
      "{'Blue-throated bee-eater': {'url': 'https://www.nlb.gov.sg/main/article-detail?cmsuuid=fa1e7170-fe30-4323-acc0-25809646deb5', 'content': \"The blue-throated bee-eater (Merops viridis) is a bird with blue, green and brown plumage. It is one of two bee-eater species found in Singapore.DescriptionThe blue-throated bee-eater is recognisable by its bright blue throat, chestnut head and back, and black eye stripe. Its upperparts and wing feathers are predominantly green, while its lower back, rump and tail are a brilliant blue. Adults have distinctive long tail feathers. Juveniles lack the long tail feathers and have a bluish green head. Adults measure about 28cm in length, including their tails.1Their flight is jerky and undulating, with a few rapid wingbeats followed by a long glide. Their call sounds like “berek berek”, giving rise to its Malay name, and is frequently uttered in flight.2ReproductionBlue-throated bee-eaters nest communally and excavate nest burrows in sandy banks, quarry faces and man-made sand piles. They breed between March to June in Singapore and lay three to six white eggs.3 Their breeding sites in Singapore have been documented at Changi, Sentosa, Bukit Timah and Pulau Ubin.4DietBee-eaters are insectivorous, feeding on a variety of insects such as bees, ants, dragonflies, beetles, and flies. They are known to look out for insects from a vantage point such as bare branches, swooping down and catching the prey while in flight. Smaller insects are eaten on the wing, while dangerous prey are branch-swiped and have their stings removed by rubbing them on a perch before being consumed. The bird occasionally catches small lizards and fishes.5Distribution and HabitatBlue-throated bee-eaters can be found in southern China and most of Southeast Asia. They occur in secondary forests, scrubs, old plantations and parklands.They breed in Singapore, with most migrating to Indonesia from September onwards. They are one of two bee-eater species in Singapore, the other being the blue-tailed bee-eater (Merops philippinus) which is a common winter visitor to Singapore.6Other FactsThe blue-throated bee-eater is featured on the Singapore $100 notes of the “Bird Series” currency notes released by the Monetary Authority of Singapore between 1976 and 1984.7 It was also featured on a S$2 postage stamp in the 1992 “Currency Notes & Coins” series, as well as a S$0.30 postage stamp from the 2007 series “Flora & Fauna Definitives”.8Variant NamesMalay: Berek berek.Chinese: 蓝喉蜂虎 (lan hou feng hu).9AuthorShereen TayReferences1. Yong, D. L., & Lim, K. C. (2016). A naturalist's guide to the birds of Singapore. Oxford, England: John Beaufoy Publishing, p. 99. (Call no.: RSING 598.095957 YON); Fry, C. H. (c1992). Kingfishers, bee-eaters & rollers: A handbook. London: Christopher Helm, pp. 92-\\xad93, 277-\\xad279. (Call no.: R 598.892 FRY)2. Madoc, G. C. (1947). An introduction to Malayan birds. Kuala Lumpur: Malayan Nature, pp. 99\\xad-100. (Call no.: RCLOS 598.29595 MAD-[GBH])3. Yong, D. L., & Lim, K. C. (2016). A naturalist's guide to the birds of Singapore. Oxford, England: John Beaufoy Publishing, p. 99. (Call no.: RSING 598.095957 YON); Robson, C. (2011). A field guide to the birds of South-East Asia. London: New Holland, pp. 381-\\xad382. (Call no.: RSING 598.0959 ROB)4. Briffett, C. (1993). The birds of Singapore. Kuala Lumpur; Oxford University Press, New York, p. 49. (Call no.: RSING 598.295757 BRI)5. Wells, D. R. (c1999). The birds of the Thai-Malay Peninsula: Covering Burma and Thailand south of the eleventh parallel, Peninsular Malaysia and Singapore: Vol. 1, Non-passerines. San Diego, California: Academic Press, pp. 527-530. (Call no.: RSING 598.0959 WEL); Fry, C. H. (c1992). Kingfishers, bee-eaters & rollers: A handbook. London: Christopher Helm, pp. 92-\\xad93, 277-\\xad279. (Call no.: R 598.892 FRY)6. Yong, D. L., & Lim, K. C. (2016). A naturalist's guide to the birds of Singapore. Oxford, England: John Beaufoy Publishing, p. 99. (Call no.: RSING 598.095957 YON)7. Monetary Authority of Singapore. (2016). Notes. Retrieved 2016, June 15 from the Monetary Authority of Singapore website: http://www.mas.gov.sg/currency/circulation-currency/notes.aspx8. CS Philathelic Agency. (n.d.). Singapore Stamps 1992. Retrieved 2016, June 15 from CS Philathelic Agency website: http://cs.com.sg/1992.htm; CS Philathelic Agency. (n.d.). Singapore Stamps 2007. Retrieved 2016, June 15 from CS Philathelic Agency website: http://cs.com.sg/2007.htm9. Madoc, G. C. (1947). An introduction to Malayan birds. Kuala Lumpur: Malayan Nature, pp. 99-\\xad100. (Call no.: RCLOS 598.29595 MAD-[GBH]); Yong, D. L., & Lim, K. C. (2016). A naturalist's guide to the birds of Singapore. Oxford, England: John Beaufoy Publishing, p. 99. (Call no.: RSING 598.095957 YON)The information in this article is valid as at 2016 and correct as far as we can ascertain from our sources. It is not intended to be an exhaustive or complete history of the subject. Please contact the Library for further reading materials on the topic. \", 'source': 'Singapore Infopedia', 'last_update_date': '2016'}, 'Thian Hock Keng': {'url': 'https://www.nlb.gov.sg/main/article-detail?cmsuuid=91fb75a2-78de-479b-802d-916245c9be52', 'content': 'Thian Hock Keng is Singapore’s oldest Hokkien temple. Located at 158 Telok Ayer Street, it is recognised as the most majestic Chinese temple in Singapore.1 It was designed and built in 1842 by skilled craftsmen from China according to traditional Chinese temple architectural style.2 The temple is managed by the Singapore Hokkien Huay Kuan.3 It was gazetted as a national monument on 28 June 1973.4HistoryThe Thian Hock Keng temple started out as a prayer house located along the shoreline of Telok Ayer Basin.5 In 1821, immigrants from Fujian province, China, erected the prayer house and dedicated it to the goddess Ma Zu (or Tian Hou), protector of seafarers and navigators. Chinese immigrants who had just completed their perilous journey across the turbulent sea would make thanksgiving offerings of money and joss-sticks at the prayer house for their safe sea voyage.6 Between 1839 and 1842, extensive reconstruction transformed the prayer house into Thian Hock Keng, which means “Temple of Heavenly Happiness”.7 With funding from wealthy Hokkien merchants like Tan Tock Seng, the temple was completed in 1842 at a cost of 30,000 Spanish dollars.8 Not a single nail was used in the construction, and all the materials were imported from China, including the ironwood posts which served as the building’s main supporting pillars.9 The temple was designed and built according to Chinese temple architectural traditions by skilled craftsmen from China, making it one of the most traditional Chinese temples in Singapore.10 The patron deity, Ma Zu, was shipped from Amoy (now Xiamen), Fujian province, and arrived in Singapore in April 1840.11 The Chung Wen Pagoda and Chong Boon Gate, situated to the right of the main temple, were added in 1849.12 In 1907, Emperor Guang Xu of the Qing Dynasty presented a plaque, together with a silk scroll, to the temple. The wooden plaque is inscribed with the Chinese characters 波靖南溟 (bo jing nan ming), which mean “gentle waves over the South Seas”, The same four Chinese characters are also found on the yellow scroll. The plaque and scroll had hung over the temple’s main altar signboard until 1999, when they were taken down before restoration work began. A replica of the original scroll and the original wooden plaque were returned to the same spot upon the completion of restoration work. The scroll was subsequently donated to the Singapore History Museum (now National Museum of Singapore).13The Hokkien clan association, Singapore Hokkien Huay Kuan, was housed in the temple’s left wing before it relocated to premises next to the temple in 1919 and across the street in 1955. Chong Hock Girls’ School, one of the earliest Hokkien girls’ schools in Singapore, had its beginnings at the temple. Established by the Hokkien Huay Kuan in 1915, the school was located at the Chong Hock Pavilion, which shares the same compound as the Chung Wen Pagoda. The school, now known as Chongfu Primary School, began enrolling boys in 1949 and moved out of the temple grounds to Yishun in 1985.14Conservation and restorationIn the 1990s, the temple was infested with termites, which were feeding on its wooden structures. A committee was formed by the Hokkien Huay Kuan to look into conserving and restoring the temple. Adhering to guidelines by the Singapore Preservation of Monuments Board (now Preservation of Sites and Monuments) on the conservation of national monuments, the façade and physical appearance of the temple were preserved. Original materials that were beyond restoration were preserved for their historical significance. The restoration plan also took into consideration the longevity of the materials used as this was crucial for the long-term maintenance of the temple. The planning team also ensured that the various statues in the temple were positioned according to usual practices adopted by Chinese temples.15 Planning for the restoration project began in 1995. It involved major restoration works that saw up to 70 Fujian craftsmen  – including wood carvers, stonemasons and artisans – brought in to ensure that the restored temple remained true to the original.16 Headed by architectural firm James Ferrie & Partners, the restoration took two-and-a-half years to complete at a cost of S$4 million. It won the temple many local and architectural awards, with the most prestigious being an honourable mention in the 2001 UNESCO Asia-Pacific Heritage Awards.17 A new eight-storey Hokkien Huay Kuan Building was  built on Telok Ayer Street in 2003, with the clan association occupying the top floor.18 On 16 April 2005, a ceremony to commemorate the completion of the temple restoration, the clan association’s 165th anniversary and the opening of the new building was officiated by then Senior Minister Goh Chok Tong.19 AuthorBonny TanReferences1. Gretchen Liu, In Granite and Chunam: The National Monuments of Singapore (Singapore: Landmark Books, 1996), 126–35. (Call no. RSING 725.94095957 LIU)2. Edwin Lee, Historic Buildings of Singapore (Singapore: Preservation of Monuments Board, 1990), 71 (Call no. RSING 720.95957 LEE); M. Gretchen, Pastel Portraits: Singapore’s Architectural Heritage (Singapore: Singapore Coordinating Committee, 1984), 120. (Call no. RSING 722.4095957 PAS)3. ‘Our Heritage,” Singapore Hokkien Huay Kuan, accessed 25 September 2016.4. Preservation of Monuments Order 1973, Sp. S 228/1973, Government Gazette. Subsidiary Legislation Supplement, 1973, 377 (Call no. RCLOS 348.5957 SGGSLS); National Heritage Board, “Preservation of Monuments Board Merges with the National Heritage Board,” press release, 8 July 2009. (From National Archives of Singapore document no. 20090715004)5. Dhoraisingam S. Samuel, Singapore’s Heritage: Through Places of Historical Interest (Singapore: Elixir Consultancy Service, 1991), 25–27. (Call no. RSING 959.57 SAM)6. Lee Geok Boi, The Religious Monuments of Singapore: Faiths of Our Forefathers (Singapore: Landmark Books, 2002), 12–17. (Call no. RSING 726.095957 LEE)7. Lee, Religious Monuments of Singapore, 12–17.8. Lee, Historic Buildings of Singapore, 71; Liu, Granite and Chunam, 126–35.9. Lee, Religious Monuments of Singapore, 12–17; Lee, Historic Buildings of Singapore, 71.10. Gretchen, Pastel Portraits, 120.11. Liu, Granite and Chunam, 126–35.12. Lee, Religious Monuments of Singapore, 12–17.13. Lee, Religious Monuments of Singapore, 12–17; Guardian of the South Seas: Thian Hock Keng and Singapore Hokkien Huay Kuan (Singapore: Singapore Hokkien Huay Kuan, 2006), 131–33 (Call no. RSING 369.25957 GUA); Sarah Ng, “Restored – after 92 Years in Cylinder,” Straits Times, 24 April 2005, 12 (From NewspaperSG); “About Us,” Thian Hock Kheng Temple, accessed 3 October 2016.14. Lee, Religious Monuments of Singapore, 12–17; Liu, Granite and Chunam, 126–35; “History,” Chongfu School, accessed 26 July 2016.15. Guardian of the South Seas, 131–33.16. Kao Chen, “Facelift for a Goddess,” Straits Times, 16 April 1998, 39 (From NewspaperSG); Guardian of the South Seas, 132.17. Guardian of the South Seas, 131–33; “Temple Bags Unesco Award,” Straits Times, 20 September 2001, 4 (From NewspaperSG); Thian Hock Kheng Temple, “About Us.”18. Guardian of the South Seas, 131–33, 145.19. “Clan Group Marks 165th Anniversary,” Straits Times, 16 April 2005, 10 (From NewspaperSG); Ng, “Restored – after 92 Years in Cylinder.”Further resources“A 30,000 Silver Dollar Temple,” Straits Times, 16 April 1998, 39. (From NewspaperSG)Du Nanfa 杜南发, ed., Nan hai ming zhu: Tian fu gong 南海明珠 : 天福宮 [Jewel of the South Sea: Thian Hock Keng] (Singapore: Singapore Hokkien Assembly Hall, 2010). (Call no. Chinese RSING 203.5095957 NHM)  G. Uma Devi, Resonance: Songs of Our Forefathers (Singapore: Preservation of Monuments Board, 2009), 36–41. (Call no. RSING 725.94095957 RES)  John Hall-Jones and Christopher Hooi, An Early Surveyor in Singapore: John Turnbull Thomson in Singapore, 1841–1853 (Singapore: National Museum, 1979), 48. (Call no. RSING 526.90924 THO.H)  Leong Weng Kam, “Was this Emperor’s Own Work?” Straits Times, 26 May 1999, 4. (From NewspaperSG)  Preservation of Monuments Board Singapore, Report (Singapore: Preservation of Monuments Board, 1972–1973), 10. (Call no. RCLOS 722.40959)The information in this article is valid as at 2010 and correct as far as we are able to ascertain from our sources. It is not intended to be an exhaustive or complete history of the subject. Please contact the Library for further reading materials on the topic. ', 'source': 'Singapore Infopedia', 'last_update_date': '2010'}, 'Gurdwara Sahib Silat Road (Silat Road Sikh Temple)': {'url': 'https://www.nlb.gov.sg/main/article-detail?cmsuuid=f59d005d-c9cb-47f5-859e-3eaa60925e0a', 'content': 'Gurdwara Sahib Silat Road (Silat Road Sikh Temple) is a Sikh temple located on Jalan Bukit Merah.1 It houses the samadh (Punjabi for “tombstone”) of Bhai Maharaj Singh, the Sikh freedom fighter, after it was brought to the gurdwara from the Singapore General Hospital on 12 October 1966.2 The National Heritage Board declared the Silat Road Sikh Temple a historic site in 1999.3BackgroundThe Gurdwara Sahib Silat Road was originally located at Pearl’s Hill, where the barracks of the Sikh police contingent were situated. The early Sikhs who came to Singapore from Punjab, India, during the 19th century were mostly employed with the police force;4 others worked as security guards and watchmen.5 The Sikh policemen soon saw the need for a gurdwara. Besides being a place of worship, a temple was also where they could meet their friends and family. A Sikh temple was subsequently built at Pearl’s Hill.6In 1920, the Sikh policemen sought to build a larger temple. In addition, they wanted a halfway house within the new grounds to provide shelter for newly arrived Sikh migrants. A location near the harbour was favoured because new migrants arrived from the harbour.7 Previously, the Sikh policemen had allowed the migrants to put up at their barracks until the migrants found lodging of their own. With the Sikh community in Singapore growing, however, this practice became untenable. Moreover, there were rigid rules that the policemen themselves had to adhere to in the quarters.8In 1922, the land at Silat Road, which was near the harbour and the railway station, was leased from the Singapore Harbour Board to build the new temple and lodging house. The foundation stone for the temple was laid by the inspector-general of police of the Straits Settlements, Alexander Richard Chancellor, on 18 December 1922.9 Establishment of Silat Road TempleThe Police Gurdwara, as it was commonly known in the Sikh community then, was built at a cost of $54,000.10 The sum was raised mainly by Sikh members of the police force in Malaya and Singapore. Sikhs in neighbouring countries also contributed to the fund.11 Completed in 1924,12 the temple had arches and domes.13 It was named after the road on which it was located, though Silat Road has since been renamed Jalan Bukit Merah. A part of the former Silat Road, however, still exists nearby.14 Bhai Maharaj Singh MemorialBhai Maharaj Singh was an Indian revolutionary who came to Singapore in 1850 as a prisoner. Singapore was then a penal colony. Detained in Pearl’s Hill Prison, Maharaj Singh became blind and developed cancer. He died on 5 July 1856 and was cremated outside the prison complex. His tombstone, which was located within the grounds of the Singapore General Hospital, saw many visitors, and it eventually became a small memorial to the freedom fighter.15In 1966, the tombstone of Maharaj Singh was moved from the hospital grounds to be placed in the Silat Road Temple.16 Following the relocation of the tombstone, the temple grew in popularity.17 Some Sikhs in Singapore believe that prayers would be answered through the divine intervention of Maharaj Singh.18Japanese Occupation (1942–45)During the Japanese Occupation of Singapore, Silat Road Temple served as a refuge for war widows and orphans.19 In return, the widows assisted the temple in the preparation of food for langar (free kitchen).20 After the ended, the widows and their children were sent back to India for free with the assistance of the local Sikhs community.21DescriptionThe present Silat Road Sikh Temple, managed by the Central Sikh Gurdwara Board, was constructed after a S$8.3-million facelift.22 Built as an annex to the main building, the Bhai Maharaj Memorial, a seven-storey shrine, is one of the striking features of the temple. Opened on 23 October 1995, the newly renovated temple saw 4,000 worshippers congregate for its opening ceremony.23 The temple has the largest palki (a palanquin where the Holy Book is placed and where a priest conducts prayers) in the world measuring 3 m long, 1.5 m wide and 4 m high, and weighing 10 tonnes. It was made in India in 30 pieces and put together in Singapore. The temple’s larger dome, which spans 10 m in diameter, is the largest dome on a gurdwara outside India, while the smaller dome is from the old temple. The pinnacles are gilded in pure gold leaf.24The renovation was supported mainly by a S$7-million donation by members of the Sikh community. These donations included S$30,000 for the gilding of the shrine pinnacles, $25,000 for the marble palki, S$10,000 for the tables and chairs in the langar hall, S$10,000 for other items. Apart from the gurdwara and the shrine, the building also houses the Sikh Heritage Centre, which focuses on general Sikh history and culture as well as the Sikh community in Singapore. It provides Punjabi language classes and organises Sikh cultural activities.25AuthorBalbindar Kaur DhaliwalReferences1. Rav Dhaliwal, “Temple Restoration Scores Some Firsts,” Straits Times, 10 October 1995, 3. (From NewspaperSG)2. Central Sikh Gurdwara Board (Singapore), Bhai Maharaj Singh Ji 150th Anniversary 2006 (Singapore: Central Sikh Gurdwara Board, 2006), 64–65. (Call no. RSING 294.661 BHA)3. “Sikh Temple Now a Historic Site,” Straits Times, 15 November 1999, 42. (From NewspaperSG)4. T. Y. Tan, “A Historical Sketch of the Early Sikhs in Singapore,” The Varsity Sikh Journal, 25, (1992): 24–25. (Call no. RSING 305.69460095957 VSJ)5. Central Sikh Gurdwara Board (Singapore), Bhai Maharaj Singh Ji 150th Anniversary 2006, 43–44.6. Central Sikh Gurdwara Board (Singapore), Bhai Maharaj Singh Ji 150th Anniversary 2006, 51–52.7. Tan, “Historical Sketch of the Early Sikhs in Singapore,” 24–27; “Farewell to Capt. Chancellor,” Singapore Free Press and Mercantile Advertiser (1884–1942), 8 April 1920, 7. (From NewspaperSG)8. Tan, “Historical Sketch of the Early Sikhs in Singapore,” 24–27.9. “Silat-Rd. Sikh Temple,” Singapore Free Press and Mercantile Advertiser (1884–1942), 19 December 1922, 12. (From NewspaperSG)10. Saran Singh Sidhu, Sikh Gurdwaras in Malaysia and Singapore: An Illustrated History, 1873–2003 (Malaysia: Sikh Naujawan Sabha Malaysia, 2003), 406. (Call no. RSING q294.635095957 SID)11. Central Sikh Gurdwara Board (Singapore), Bhai Maharaj Singh Ji 150th Anniversary 2006, 57.12. Dhaliwal, “Temple Restoration Scores Some Firsts.”13. “Sikh Temple Now a Historic Site.”14. “Silat-Rd. Sikh Temple”; “OneMap,” Singapore Land Authority, n.d.15. Central Sikh Gurdwara Board (Singapore), Bhai Maharaj Singh Ji 150th Anniversary 2006, 18, 23–27.16. Rav Dhaliwal, “Donations Pour in for Silat Road Sikh Temple,” Straits Times, 3 November 1994, 4. (From NewspaperSG)17. C. S. Sidhu, “SRST history,” accessed 18 September 2016.18. Dhaliwal, “Temple Restoration Scores Some Firsts.”19. “Sikh Temple Now a Historic Site.”20. Central Sikh Gurdwara Board (Singapore), Bhai Maharaj Singh Ji 150th Anniversary 2006, 59.21. Sidhu, Sikh Gurdwaras in Malaysia and Singapore, 406.22. Dhaliwal, “Temple Restoration Scores Some Firsts.”23. “Sikh Temple Moves to New Building in Style,” Straits Times, 24 October 1995, 22. (From NewspaperSG)24. Dhaliwal, “Temple Restoration Scores Some Firsts.”25. Dhaliwal, “Donations Pour in for Silat Road Sikh Temple”; Rav Dhaliwal, “Sikh Fund-Raising Drive to Rebuild Temples,” Straits Times, 12 September 1994, 3. (From NewspaperSG)The information in this article is valid as at 2013 and correct as far as we are able to ascertain from our sources. It is not intended to be an exhaustive or complete history of the subject. Please contact the Library for further reading materials on the topic. ', 'source': 'Singapore Infopedia', 'last_update_date': '2013'}, 'Communist Party of Malaya': {'url': 'https://www.nlb.gov.sg/main/article-detail?cmsuuid=56327203-9842-46b4-85d3-c4f608578b2c', 'content': 'The Communist Party of Malaya (CPM), also known as the Malayan Communist Party, was a political party active in Singapore, the Federation of Malaya and later Malaysia. It was founded in 1930 and dissolved in 1989.FormationThe origin of the CPM can be traced to Singapore sometime between late 1927 and early 1928 when a group of communists from the Communist Party of China set up the Nanyang Communist Party. In 1929, the Far East Bureau of the Communist International (Comintern) – an organisation controlled by the Communist Party of the Soviet Union which sought to spread communism globally – decided that the party needed to be reorganised. The Third Representatives’ Conference of the Nanyang Communist Party was then held secretly in Singapore in early 1930. This resulted in the dissolution of the Nanyang Communist Party and the Nanyang General Labour Union, as well as the formation of the CPM and the Malayan General Labour Union (MGLU) in April 1930. The CPM’s primary responsibilities were to install the communist order in Singapore and Malaya as well as to spread the ideology to Thailand and the Dutch East Indies.1GrowthThe CPM had an unfortunate start. In June 1931, a senior Comintern agent that was sent to Singapore was arrested by the police, which led to the arrest of prominent members of the CPM in Malaya, Singapore, Hong Kong and Shanghai. Two years later, however, the Comintern managed to re-establish itself and resume contact with the CPM.2Through the MGLU, the CPM infiltrated trade unions and exploited the labourers’ grievances. It engineered numerous strikes in 1936 and 1937, most notably at the coal mine in Batu Arang, Selangor, in March 1937 which saw some 3,000 Chinese workers going on strike. The clash with the police resulted in one dead, four wounded and many important members of the CPM and MGLU arrested. Subsequently, the strict actions by the authorities, couple with improving working conditions and wages in the labour sector, led to the decline of the CPM’s appeal.3In order to restore confidence in the party, the CPM changed its strategy by focusing on anti-Japanese sentiments. The party established the Overseas Chinese Anti-Japanese National Salvation Association, which saw the participation of many labours. The approach was successful, particularly after the outbreak of the Sino-Japanese War; by June 1937, the MGLU had become the largest subsidiary organisation under the CPM.4Around this period, Lai Teck, a Vietnamese, joined the CPM. Formerly an agent of the French Intelligence before his cover was blown, he was recruited by the British to work for the Singapore Special Branch in 1934 or 1935. Lai Teck quickly won over the party with his Comintern credentials and organisation abilities, and rose through the ranks to become the CPM’s secretary-general in April 1938.5World War IIAt the outbreak of World War II, the CPM followed the general international communists’ line of opposing Western democracies and supporting Germany. It intensified its propaganda against the Malayan government and engineered further strikes in Singapore in 1940. In July, however, the Communist Party of China reached an agreement with the Kuomintang government to put aside their conflict and rally together against Japanese aggression. It instructed the CPM to cease its opposition against the British authorities and concentrate instead on anti-Japanese agitation.6On 8 December 1941, the Japanese invaded Malaya. A few days later, the CPM offered their cooperation to the British authorities on condition that all CPM prisoners would be released. The British accepted the offer, and CPM members were then trained in military warfare and mobilised to defend Singapore. In Singapore, the communists formed the largest group of military volunteers. After Singapore fell on 15 February 1942 and British troops were taken prisoners, the CPM was left to carry on alone in their wartime resistance against the Japanese. It organised its guerrilla army into units and was renamed Malayan People’s Anti-Japanese Army (MPAJA). The MPAJA continued to oppose and sabotage the occupying forces, albeit with little success due to the lack of food, capable leadership and training.7In early March 1942, Lai Teck was arrested by the Kempeitai (Japanese military police) and was then turned and recruited to work as their agent. After his release in end April, he rejoined the CPM as its secretary-general. He betrayed the CPM multiple times during the course of the Japanese Occupation. One of the most severe raids took place at the Batu Caves secret conference in September 1942, where many senior officials from the CPM and the MPAJA were killed and arrested. The success of the Kempeitai’s raids soon raised the alarms that there might be traitors within the CPM itself. Despite its attempts to identify and remove informers, however, Lai Teck’s betrayal was not uncovered and he continued as the party’s leader throughout the war.8In 1943, Chin Peng, who was groomed as Lai Teck’s second-in-command, was appointed as a member of the CPM’s Central Standing Committee, a member of the Military High Command and a representative of the MPAJA to liaise with Force 136 officers. Together with Lai Teck, he met with Force 136, a special unit under the British South East Asia Command (SEAC), to assist with liberating Malaya. In return for arms, money, training and supplies to fight against the Japanese, the MPAJA cooperated and accepted orders from the SEAC. Despite the ostensible cooperation, the CPM made their own preparation to rebuild the MPAJA and seize power in Malaya once the Japanese were defeated. In April 1945, the CPM directed the MPAJA leaders to form secret units that were to hide in the jungle and remain incognito, whereas units that had been in contact with the British would remain “open”, or publicly known. The secret army was tasked to collect as much arms as possible to fight against the Japanese as well as the British in the event that a people’s republic was not established to their liking after the war.9Postwar developmentsThe Japanese Occupation ended on 2 September 1945. The CPM and the MPAJA quickly consolidated their position by setting up committees to run the local administration in the towns under their charge until the British troops returned. Although some of the CPM members were keen to overthrow the returning British, Lai Teck encouraged the CPM and the MPAJA to cooperate with them as he felt that it was not the appropriate time to start an armed struggle. The party announced its intention to work with the British on 27 August 1945 and the publicly known units of the MPAJA were demobilised in December the same year.10 The British allowed CPM to operate openly and also provided MPAJA guerrillas with money in recognition for their efforts during the war. On 6 January 1946, Chin Peng was awarded the Order of the British Empire, although this was later withdrawn when he launched an armed revolt in 1948.11The CPM resumed their efforts to overthrow the British and establish a communist-controlled people’s republic. It gained substantial clout in the trade unions through the communist-controlled General Labour Union, which had been set up in October 1945 in Singapore and in all Malayan States. The CPM organised a large demonstration in Singapore in February 1946, and engineered strikes in Malaya. The British government then arrested many of the communist leaders in the unions, causing the CPM tremendous losses. In addition, the government introduced new legislation to reduce opportunities for the CPM to hold executive positions in trade unions, further crippling the party. The CPM itself also faced a period of internal strife. Lai Teck’s duplicity had been discovered and he later absconded with party funds in March 1947. Chin Peng, who had been Lai Teck’s right-hand man, was elected the new secretary-general the same year.12Malayan EmergencyThe CPM carried out acts of violence and intimidation in April and May 1948, which intensified as the weeks passed. On 16 June 1948, three British planters were murdered in Perak. In response, the British government declared a state of emergency in Perak and Johor that same day. A state of emergency was subsequently declared in Singapore on 24 June, and the CPM was declared an illegal society on 23 July.13 The CPM remobilised the MPAJA and named it the Malayan People’s Anti-British Army (MPABA). The group was later renamed the Malayan Races Liberation Army in February 1949 in a bid to gain wider support from the Malays and Indians.14Many CPM members went into hiding or were transferred to the MPABA in the jungles of Malaya following the imposition of Emergency. In Singapore, the CPM’s front organisations, such as the Singapore Federation of Trade Unions and the Pan-Malayan Federation of Trade Unions, were banned under the new Societies Ordinance and Trade Union Ordinance. Despite that, the CPM continued to infiltrate trade unions, student bodies as well as cultural and rural organisations, and was able to capitalise on industrial disputes and unpopular government policies to foment unrest. The CPM also carried out numerous acts of violence and sabotage, including the attempted assassination of then Governor of Singapore Franklin Gimson. In 1955, the Rendel Constitution paved the way for the CPM to enter politics in Singapore. The People’s Action Party and the Workers’ Party were believed to have been penetrated by the CPM. However, attempts to capture political power by the communists were stymied by the security crackdown known as Operation Coldstore in 1963.15The armed struggle, on the other hand, was beginning to stall. The CPM had not only underestimated the British, but their terror tactics had also alienated many people from their cause.16 Under the leadership of British High Commissioner and director of operations Gerald Templer from 1952 to 1954, government forces gained the upper hand against the communists. Templer enforced the resettlement of the Chinese squatters, thereby depriving the insurgents of support, food, money and information. More importantly, he embarked on a psychological campaign to win the people’s support, specifically the rural Chinese. Templer portrayed the government to be a provider for the people as it improved their living conditions and removed restrictions at designated areas that were no longer under the threat of the Malayan Races Liberation Army so that the people could live normally. In addition, Templer personally made numerous trips to visit the grassroots and attend to their requests. Templer’s tenure is said to be the turning point in the Malayan Emergency; by the time he left Malaya, it was clear that the communists would not be able to regain their foothold and succeed in their revolt.17 Eventually, the CPM realised their armed struggle was failing as the Federation of Malaya would achieve its independence, not by their efforts but by the peaceful negotiations of the elected political leaders. This new situation removed the CPM’s appeal of being a champion and saviour of the Malayan people. Believing that their position might be redeemed by reaching an agreement with the government, the CPM organised a peace talk in Baling, Kedah, on 28 and 29 December 1955. The meeting was attended by Chin Peng, Rashid Maidin and Chen Tien from the CPM, and Tunku Abdul Rahman and David Marshall – then the chief ministers of the Federation of Malaya and Singapore respectively. Chin Peng’s terms to end the war included recognition of the CPM by the Malayan government, assurance that none of its members would be detained and investigated, and that they would be free the moment they surrendered. However, both chief ministers rejected the demands and the negotiation failed.18By the end of 1958, the CPM had completely withdrawn its armed units to South Thailand. On 31 July 1960, the Malayan government officially lifted the state of emergency. By then, the 12-year conflict had killed and wounded around 8,000 civilians and security personnel.19Post-1960sDespite the setbacks, the CPM persisted in its quest to capture political power in peninsular Malaya. Believing that the Soviet Union and China were growing in strength, the CPM declared its return to armed revolt in June 1968. It re-established assault units in the Malaysian jungles, while underground groups emerged in Singapore and Malaysia to direct acts of violence and subversion. Between 1969 and 1976, there were 22 incidents of arson and 11 bombings by the CPM and their supporters in Singapore, while more deadly attacks and assassinations were carried out in Malaysia.20The 1960s also saw internal conflict within the CPM, resulting in two breakaway factions: Communist Party of Malaya Revolutionary Front, which was formed in 1970, and the Communist Party of Malaya Marxist-Leninist, in 1974.21The government of the People’s Republic of China established diplomatic relations with the government of Malaysia in 1974. This gradually reduced the Communist Party of China’s support for the CPM. Eventually, the CPM leadership in China began to seek peace terms. The CPM threat came to a formal end with the signing of the Hat Yai Peace Agreement on 2 December 1989.22AuthorShereen TayReferences1. J. H. Brimmell, A Short History of the Malayan Communist Party (Singapore: D. Moore, 1956), 10–11 (Call no. RCLOS 329.9595 BRI-[RFL]); Aloysius Chin, The Communist Party of Malaya: The Inside Story (Kuala Lumpur, Malaysia: Vinpress, 1994), 18–23 (Call no. RSING 959.51 CHI); Edgar O’Ballance, Malaya: The Communist Insurgent War, 1948–1960 (London: Faber, 1966), 20–23. (Call no. RCLOS 959.5 OBA)2. Brimmell, Short History of the Malayan Communist Party, 12–13; O’Ballance, Communist Insurgent War, 23–24.3. Brimmell, Short History of the Malayan Communist Party, 12–13; Chin,  Communist Party of Malaya, 23–25; O’Ballance, Communist Insurgent War, 25.4. Brimmell, Short History of the Malayan Communist Party, 12–13; Chin,  Communist Party of Malaya, 23–25.5. Cheah Boon Kheng, Red Star over Malaya: Resistance and Social Conflict during and after the Japanese Occupation of Malaya, 1941–1946 (Singapore: Singapore University Press, 2003), 83–84. (Call no. RSING 959.5103 CHE)6. Brimmell, Short History of the Malayan Communist Party, 12–13; Cheah, Red Star over Malaya, 58–61.7. Brimmell, Short History of the Malayan Communist Party, 13–14; Cheah, Red Star over Malaya, 58–61; O’Ballance, Communist Insurgent War, 40–43.8. Cheah, Red Star over Malaya, 83–93.9. Brimmell, Short History of the Malayan Communist Party, 15–16; Cheah, Red Star over Malaya, 66, 75–77, 93.10. Cheah, Red Star over Malaya, 63–64, 97–99, 247–49.11. Chin,  Communist Party of Malaya, 26; Mohd Azzam Mohd Hanif Ghows, The Malayan Emergency Revisited 1948–1960: A Pictorial History (Kuala Lumpur: AMR Holding Sdn Bhd & Yayasan Pelajaran Islam, 2006), 21–24. (Call no. RSING 324.2595075 MOH)12. Brimmell, Short History of the Malayan Communist Party, 18–21; Chin,  Communist Party of Malaya, 28–29; O’Ballance, Communist Insurgent War, 69.13. O’Ballance, O’Ballance, Communist Insurgent War, 76–82; Chin,  Communist Party of Malaya, 28–29; “S’pore Now in State of Emergency,” Singapore Free Press, 24 June 1948, 1. (From NewspaperSG)14. Ghows, Malayan Emergency Revisited, 44–45.15. Bilveer Singh, Quest for Political Power: Communist Subversion and Militancy in Singapore (Singapore: Marshall Cavendish Editions, 2015), 57–140 (Call no. RSING 335.4095957 SIN); “Red Murder & Arson Plot Bared,” Straits Times, 2 May 1950, 1; “Extortion Cases on the Increase,” Straits Times, 28 May 1950, 9; “A Record of Hard Work, Vigilance and Good Progress,” Straits Times, 30 August 1952, 11; “Red Menace Is Still with Us – Taylor,” Straits Times, 19 May 1954, 8; Felix Abisheganaden, “Colony Is Prize Red Target,” Straits Times, 27 January 1956, 2; “Midnight Bomb Attack on Gimson,” Straits Times, 29 April 1950, 1; “Singapore Communist Sent to Jail,” Singapore Standard, 12 October 1950, 5. (From NewspaperSG)16. Chin,  Communist Party of Malaya, 29–31.17. Kumar Ramakrishna, “‘Transmogrifying’ Malaya: The Impact of Sir Gerald Templer (1952–54),” Journal of Southeast Asian Studies 32, no. 1 (February 2001): 79–92 (From JSTOR via NLB’s eResources website); O’Ballance, Communist Insurgent War, 166–70.18. Chin, Communist Party of Malaya, 45–48; Harry Miller, “Chin Peng Gets His Answer,” Straits Times, 29 December 1955, 1. (From NewspaperSG)19. Chin, Communist Party of Malaya, 55; “The End of the War,” Straits Times, 20 April 1960, 6 (From NewspaperSG); Leon Comber, Malaya’s Secret Police, 1945–60: The Role of the Special Branch in the Malayan Emergency (Singapore: ISEAS Publishing, 2008), 6. (Call no. RSING 363.283095951 COM)20. Singh, Quest for Political Power, 163–68; C. V. Devan Nair, ed., Socialism That Works… The Singapore Way (Singapore: Federal Publications, 1976), 12–25. (Call no. RSING 335.0095957 SOC)21. Singh, Quest for Political Power, 180.22. Chin, Communist Party of Malaya, 239–48.Further resourcesC. C. Chin and Karl Hack, Dialogues with Chin Peng: New Light on the Malayan Communist Party (Singapore: Singapore University Press, 2004). (Call no. RSING 959.5104 DIA)Chin Peng, My Side of History (Singapore: Media Masters, 2003). (Call no. RSING 959.5104092 CHI)  Fujio Hara, The Malayan Communist Party as Recorded in the Comintern Files (Malaysia: Strategic Information and Research Development Centre, 2017). (Call no. RSING 324.259507509 HAR)  Harry Miller, Jungle War in Malaya: The Campaign against Communism, 1948–60 (Singapore: Eastern Universities Press, 1981). (Call no. RSING 959.5 MIL)  Rashid Maidin, The Memoirs of Rashid Maidin: From Armed Struggle to Peace (Malaysia: Strategic Information Research Development, 2009). (Call no. RSING 323.04209595 RAS)The information in this article is valid as at 30 March 2018 and correct as far as we are able to ascertain from our sources. It is not intended to be an exhaustive or complete history of the subject. Please contact the Library for further reading materials on the topic. ', 'source': 'Singapore Infopedia', 'last_update_date': '30 March 2018'}, 'Ong Teng Cheong': {'url': 'https://www.nlb.gov.sg/main/article-detail?cmsuuid=36ea0e62-7ab5-46e7-945a-9c2368f52fa7', 'content': \"Ong Teng Cheong (b. 22 January 1936, Singapore–d. 8 February 2002, Singapore) was the fifth president of Singapore and the first to be elected into office. He was sworn in as president on 1 September 1993. An architect by training, Ong served as a People’s Action Party (PAP) member of parliament (MP) for over two decades, and held at various times the communications, culture and labour portfolios. He became the second deputy prime minister in 1985 and then deputy prime minister in 1990. He was also the secretary-general of the National Trades Union Congress (NTUC) from 1983 to 1993. Ong resigned from his political and union positions to stand for the presidential election in 1993.Early life and educationMuch of Ong’s early childhood was spent living with his grandparents. His grandfather taught him to recite passages from a Chinese classical text, The Book of Classical Wisdom (昔日贤文; Xiri xian wen), in Hokkien, thus enabling him to master the dialect.1During the Japanese Occupation (1942–45), Ong learned the Japanese language at school and also worked in a cast and die factory. After the war, he attended Chong Cheng Primary School and progressed to The Chinese High School, where he topped the school’s final year examination in 1955. Ong then left for Adelaide, Australia, for further studies and graduated with a bachelor’s degree in architecture from the University of Adelaide in 1961. He received his master’s degree in civic design from the University of Liverpool, United Kingdom, in 1967 under the Colombo Plan scholarship.2Career as an architectOng’s first job when he came back from Adelaide in 1964 was with the architectural firm Alfred Wong Partnership, but left for Liverpool the following year to pursue his master’s degree. He returned to Singapore in 1967 and worked for six months in the Planning Department under the Ministry of National Development before being moved to the State and City Planning project, a collaboration between the United Nations Development Programme and the Singapore government to develop a long-term concept plan for Singapore’s future physical development. He was tasked with planning the land use for Singapore's central region, and the plans he drew up for Telok Blangah were eventually implemented in the mid-1970s. In 1971, he left the civil service to set up his own architectural firm.3Entry into politicsAfter moving to Jalan Kayu in the late 1960s, Ong started to get involved in the Seletar Hills Residents’ Association.4 He subsequently met the then MP of Jalan Kayu, Hwang Soo Jin, and was persuaded by the latter to join politics.5 Meanwhile, Ong was serving as a member in the Citizens Consultative Committee, and conducted meet-the-people sessions for Hwang when the latter was away.6In early 1972, Ong met the PAP leaders for an interview to stand for election under the banner of their political party, and was fielded as a candidate for the Kim Keat constituency during the general election of September that year. He won the election and became the MP for Kim Keat.7 In 1991, he was elected as one of four MPs in the Toa Payoh Group Representation Constituency (GRC) after Kim Keat was absorbed as part of the GRC. Altogether, Ong served as an MP for over two decades.8Ong was approached to take up office as early as 1973, but only agreed to do so in late 1974 after leaving his architectural practice and his ailing younger brother had passed away. Ong was sworn in as the senior minister of state for communications in June 1975.9Involvement in major transportation projectsIn 1975, construction work had just started on the new airport in Changi. Ong was involved in the conceptualisation of a new airport that would cater to passengers’ needs, comfort and convenience. He also contributed to the design of the airport’s control tower, suggesting that the tower be positioned away from the terminal for maximum visual impact. The tower became a Singapore icon after Singapore Changi Airport was opened in 1981.10One of Ong’s responsibilities in the Ministry of Communications was to develop Singapore’s rapid transit network, which came to be known as the Mass Rapid Transit, or MRT. He lobbied for the development of the train system in Singapore, as he believed that it would offer a better solution for traffic problems in the long run. Due to the hefty cost of building a train network, however, the parliament was divided on whether to go for an all-bus system or a train system. Construction of the MRT was estimated to cost the government some S$5 billion.11In March 1980, Parliament approved the setting up of the Provisional Mass Rapid Transit Authority to plan and study the establishment of such a system,12 after which a decision was finally made in May 1982 to proceed with the construction of the MRT network.13 On 7 November 1987, Ong took the historic first train ride on the North–South Line, heralding a new era of public transportation in Singapore.14Secretary-general of NTUCDuring his decade with the NTUC as its secretary-general from 1983 to 1993, Ong was seen to pay special attention to low-income, daily-rated workers. He ensured that these workers still received their 13th-month bonuses despite the recession in 1985, which was the most severe economic downturn since Singapore’s independence. He also managed to gain the workers’ support in accepting wage restraints and a cut in employers’ Central Provident Fund contributions during the recession.15In 1986, Ong, in his capacity as secretary-general, sanctioned a strike involving workers of an American company, Hydril, over the management’s unfair treatment of workers.16 It was the first strike in Singapore in eight years.17During his term with the NTUC, Ong also reversed the declining union membership through a membership recruitment campaign in 1985 when the NTUC Card was introduced. NTUC’s membership reached a 10-year high of 213,382 in 1991.18 In addition, he oversaw the building of recreational facilities, such as the Orchid Country Club and the NTUC resort at Pasir Ris, for union members to enjoy.19 After he was elected as president, Ong was made a patron of the Singapore Labour Foundation, Orchid Country Club and the NTUC Club.20Arts, culture and educationOng, a pianist himself, was passionate about culture and the arts.21 In his capacity as acting minister for culture (1977–81),22 Ong initiated numerous arts policies. For instance, he launched the Singapore Cultural Foundation in 1978 to support the arts23 and started the Cultural Medallion awards in 1979 to recognise individuals who excelled in the fields of visual arts, dance, music, drama and literature.24In 1988, Ong was appointed as chairman of the Advisory Council on Culture and the Arts. The council’s report released in April the following year was a landmark in Singapore’s development of the arts. It led to the constitution of the National Arts Council as a statutory board and the establishment of the performing arts centre, Esplanade – Theatres on the Bay,25 which Ong first mooted in the 1970s.26 He was later also involved in the design of the Esplanade.27Ong was tasked with heading the Moral Education Committee, formed in 1978, to develop a school syllabus on moral education.28 The committee’s report published the following year eventually led to the implementation of “Good Citizen” lessons in primary schools and “Being and Becoming” classes for the secondary level in 1981.29 Ong believed in the importance of moral education for developing high moral standards and hence better character among Singaporeans to match the country’s rapid economic development.30In 1979, Ong also served as chairman of the first National Courtesy Campaign committee.31President of SingaporeAfter resigning from the PAP, as well as his positions in the cabinet and the NTUC, Ong stood as a candidate in Singapore’s first presidential election in 1993. He won with 58.7 percent of the votes against Accountant-General Chua Kim Yeow, and thus became Singapore fifth president and the first to be elected.32One of Ong’s legacies as president was refining the constitutional powers and workings of the elected presidency, particularly pertaining to its custodial role in safeguarding the national reserves. Until 1991 when the elected presidency was established, the president was primarily a ceremonial figure. The white paper, “The Principles for Determining and Safeguarding the Accumulated Reserves of the Government and the Fifth Schedule Statutory Boards and Government Companies”, published at the end of his term in 1999, sought to clarify the procedures taken by the president together with the government in safeguarding the national reserves.33During his tenure, Ong also initiated a number of charities such as the President’s Star Charity, which financially benefitted at least 160 organisations during his six years as president.34Retirement and deathOng was diagnosed with low-grade malignant lymphoma in 1992 and suffered a relapse in 1998.35 On 16 July 1999, Ong announced that he would not stand as a candidate in the upcoming presidential election. He officially stepped down on 31 August 1999 and was succeeded by S. R. Nathan.36 He then returned to work at his architecture practice.37 Ong succumbed to his illness on 8 February 2002, leaving behind two sons.38In March 2002, the Singapore Institute of Labour Studies was renamed Ong Teng Cheong Institute of Labour Studies (now known as the Ong Teng Cheong Labour Leadership Institute) in his honour. Ong oversaw the establishment of the institute in 1990.39Family40Wife: Ling Siew May (m. 1963–30 July 1999, her death), whom Ong met when they were in secondary school. She died from colon cancer on 30 July 1999. Children: Two sons, Tze Guan and Tze BoonTimeline22 Jan 1936: Born as eldest son to Ong Keng Wee and Chung Lai Heng.411961: Attains bachelor’s degree in architecture, University of Adelaide, Australia.1962–1964: Works for McMichael and Harris, Adelaide.421964–1965: Works for Alfred Wong Partnership, Singapore.1965: Awarded the Colombo Plan scholarship and leaves for Liverpool.1967: Attains master’s degree in civic design (town planning), University of Liverpool, United Kingdom.1967–1971: Joins the Planning Department of the Ministry of National Development as an architect-planner in 1967, and seconded to the State and City Planning project six months later.431971: Sets up own architectural firm, Design and Planning Services (renamed Ong & Ong Architects and Town Planners in 1972).44Sep 1972–Aug 1993: MP for Kim Keat constituency and then for Toa Payoh GRC.45Jun 1975–Jun 1978: Senior minister of state for communications.46Sep 1977–Jan 1981: Acting minister for culture.47Jul 1978–May 1983: Minister for communications.48Jan 1981–May 1983: Minister for labour (concurrently communications minister).49Jan 1981–Aug 1993: Chairman of the PAP’s Central Executive Committee.50May 1983–Aug 1993: Secretary-general of NTUC.51May 1983–Jan 1985: Minister without portfolio.521985: Chairman, Singapore Labour Foundation.53Jan 1985–Nov 1990: Second deputy prime minister.54Nov 1990–Aug 1993: Deputy prime minister.551992: Diagnosed with regressive low-grade lymphoma.561 Sep 1993–31 Aug 1999: President of Singapore.571993–1999: Chancellor, National University of Singapore.588 Feb 2002: Dies of malignant lymphoma.59AuthorAng Seow LengReferences1. Ng, T. (2005).  Ong Teng Cheong: Planner, politician, president. Singapore: Editions Didier Millet in association with Singapore Heritage Society, p. 13. (Call no.: RSING q959.5705092 NG-[HIS])2. Ng, T. (2005).  Ong Teng Cheong: Planner, politician, president. Singapore: Editions Didier Millet in association with Singapore Heritage Society, pp. 13, 16, 19–20, 24, 146. (Call no.: RSING q959.5705092 NG-[HIS])3. Ng, T. (2005).  Ong Teng Cheong: Planner, politician, president. Singapore: Editions Didier Millet in association with Singapore Heritage Society, pp. 24–25, 146. (Call no.: RSING q959.5705092 NG-[HIS])4. Chan, E. C. (1984, December 2). MP shares parting secret at dinner. The Straits Times, p. 16. Retrieved from NewspaperSG; .5. Ng, T. (2005).  Ong Teng Cheong: Planner, politician, president. Singapore: Editions Didier Millet in association with Singapore Heritage Society, p. 26. (Call no.: RSING q959.5705092 NG-[HIS])6. Lee, E. B. (1987, June 19). Oral history interview with Ong Teng Cheong [Transcript of cassette recording no. 000794/05/02, pp. 15–16]. Retrieved from National Archives of Singapore website: http://www.nas.gov.sg/archivesonline7. Lee, E. B. (1987, June 19). Oral history interview with Ong Teng Cheong [Transcript of cassette recording no. 000794/05/02, pp. 14–18]. Retrieved from National Archives of Singapore website: http://www.nas.gov.sg/archivesonline8. Ng, T. (2005).  Ong Teng Cheong: Planner, politician, president. Singapore: Editions Didier Millet in association with Singapore Heritage Society, p. 27. (Call no.: RSING q959.5705092 NG-[HIS]); Chiang, Y. P. (1993, August 16). ‘So long and thanks, Kim Keat’. The Straits Times, p. 22. Retrieved from NewspaperSG.9. Lee, E. B. (1987, June 19). Oral history interview with Ong Teng Cheong [Transcript of cassette recording no. 000794/05/03, pp. 23–24]. Retrieved from National Archives of Singapore website: http://www.nas.gov.sg/archivesonline; Fong, L. (1975, June 3). Cabinet surprise. The Straits Times, p. 1. Retrieved from NewspaperSG.10. Ng, T. (2005).  Ong Teng Cheong: Planner, politician, president. Singapore: Editions Didier Millet in association with Singapore Heritage Society, p. 42. (Call no.: RSING q959.5705092 NG-[HIS])11. Ng, T. (2005).  Ong Teng Cheong: Planner, politician, president. Singapore: Editions Didier Millet in association with Singapore Heritage Society, p. 53. (Call no.: RSING q959.5705092 NG-[HIS]); Dhaliwal, R. (1987, November 5).  MRT gets ‘all clear’ to run first phase. The Straits Times, p. 17. Retrieved from NewspaperSG.12. Ng, T. (2005).  Ong Teng Cheong: Planner, politician, president. Singapore: Editions Didier Millet in association with Singapore Heritage Society, p. 53. (Call no.: RSING q959.5705092 NG-[HIS])13. Go-ahead for MRT: Work starts in ’84. (1982, May 30). The Straits Times, p. 1. Retrieved from NewspaperSG.14. Dhaliwal, R., & Lim, M. (1987, November 8). All aboard for the subway age. The Straits Times, p. 1. Retrieved from NewspaperSG.15. Ahmad Osman. (2002, February 10). A champion of the rank and file. The Straits Times, p. 22. Retrieved from NewspaperSG; Ng, T. (2005).  Ong Teng Cheong: Planner, politician, president. Singapore: Editions Didier Millet in association with Singapore Heritage Society, p. 66. (Call no.: RSING q959.5705092 NG-[HIS])16. Koh, E. (1986, January 3). Workers at Hydril go on strike. The Business Times, p. 1. Retrieved from NewspaperSG; ‘I had a job to do’. (2000, March 10). Asiaweek, 26(9). Retrieved from: http://edition.cnn.com/ASIANOW/asiaweek/magazine/2000/0310/nat.singapore.ongiv.html17. Jacob, P. (1986, January 3). Workers strike over ‘anti-union moves’ by firm. The Straits Times, p. 12. Retrieved from NewspaperSG.18. Ministry of Information and the Arts. (1991, November 15). Speech by Mr Ong Teng Cheong, deputy prime minister, on the occasion of the membership recruitment awards presentation ceremony at the NTUC Club Union Hall on Friday, 15 November 1991 at 4.30 pm. Retrieved from National Archives of Singapore website: http://www.nas.gov.sg/archivesonline; Ng, T. (2005).  Ong Teng Cheong: Planner, politician, president. Singapore: Editions Didier Millet in association with Singapore Heritage Society, p. 69. (Call no.: RSING q959.5705092 NG-[HIS])19. Ahmad Osman. (2002, February 10). A champion of the rank and file. The Straits Times, p. 22. Retrieved from NewspaperSG.20. ‘He cared so much for the workers’. (2002, February 9). The Straits Times, p. 10. Retrieved from NewspaperSG.21. Ong Teng Cheong. (1998, September 25). President Ong Teng Cheong giving a piano performance during the President’s Star Charity show accompanied by Mediacorps artistes Kym Ng (left) and Evelyn Tan [Photograph]. Retrieved from National Archives of Singapore website: http://www.nas.gov.sg/archivesonline; Tan, L. (2004, June 24). Interviews for ‘Ong Teng Cheong Planner Politician President’ coffee table book [MP3 recording no. E000003/02/01, p. 6]. Retrieved from National Archives of Singapore website: http://www.nas.gov.sg/archivesonline22. Ministry of Culture. (1977, September 25). Statement from the Prime Minister’s Office [Press release]. Retrieved from National Archives of Singapore website: http://www.nas.gov.sg/archivesonline; Fong, L. (1981, January 6). Toh not in new cabinet. The Straits Times, p. 1. Retrieved from NewspaperSG.23. Body set up to finance cultural progress. (1978, December 12). The Straits Times, p. 1. Retrieved from NewspaperSG.24. Finalising the medallion awards. (1980, January 12). The Straits Times, p. 15. Retrieved from NewspaperSG; National Arts Council. (2015, October 19). Cultural Medallion. Retrieved from the National Arts Council Singapore website: https://www.nac.gov.sg/talent-development/cultural-leadership/cultural-medallion25. Ong, T. C. (1989). Report of the Advisory Council on Culture and the Arts. Singapore: The Council, p. 37. (Call no.: RSING q700.95957 SIN); Kong, L., Ching, C., & Chou, T. (2015). Arts, culture and the making of global cities: Creating new urban landscapes in Asia. Cheltenham: Edward Elgar, p. 89–90. (Call no.: RSING 307.1216095 KON)26. Tsang, S. (1996, August 12). 20-year arts dream turns into reality. The Straits Times, p. 1. Retrieved from NewspaperSG.27. Ng, T. (2005).  Ong Teng Cheong: Planner, politician, president. Singapore: Editions Didier Millet in association with Singapore Heritage Society, p. 115. (Call no.: RSING q959.5705092 NG-[HIS])28. Singapore. Ong, T. C., & Moral Education Committee. (1979, June 1). Report on moral education 1979. Singapore: Singapore National Printers, p. 1. (Call no.: RSING 375.17 SIN)29. Mahbubani, G. (1981, September 18). Awareness of the self and the world. The Straits Times, p. 9. Retrieved from NewspaperSG.30. Lee, K. C. (1983, January 24). Need for higher moral standards. The Straits Times, p. 1; High moral character comes first: Teng Cheong. (1983, May 27). The Straits Times, p. 18. Retrieved from NewspaperSG.31. Ng, T. (2005).  Ong Teng Cheong: Planner, politician, president. Singapore: Editions Didier Millet in association with Singapore Heritage Society, p. 85. (Call no.: RSING q959.5705092 NG-[HIS]); Lee to kick off annual courtesy campaign. (1979, May 10). The Straits Times, p. 9. Retrieved from NewspaperSG.32. Tan, S. (1993, August 29).  Voters choose Teng Cheong. The Straits Times, p. 1. Retrieved from NewspaperSG.33. Singapore. Parliament. Parliamentary debates: Official report. (1999, August 17). Issues raised by President Ong Teng Cheong at his press conference on 16th July 1999 (Vol. 70). Singapore: [s.n.], cols. 2018–2068. (Call no.: RSING 328.5957 SIN); Singapore. Parliament. (1999, July). The principles for determining and safeguarding the accumulated reserves of the government and the fifth schedule statutory boards and government companies (Cmd. 5 of 1999). Singapore [s.n.]. (Call no.: RSING 336.5957 SIN)34. Ng, T. (2005).  Ong Teng Cheong: Planner, politician, president (p. 111). Singapore: Editions Didier Millet in association with Singapore Heritage Society. (Call no.: RSING q959.5705092 NG-[HIS])35. President Ong receives therapy for cancer. (1998, July 25). The Straits Times, p. 2. Retrieved from NewspaperSG.36. Ministry of Information, Communications and the Arts. (1999, July 16). President Ong Teng Cheong announced his decision not to stand as a candidate at the next presidential elections [Press release]. Retrieved from National Archives of Singapore website: http://www.nas.gov.sg/archivesonline; President Ong says ‘thank you’. (1999, September 1). The Straits Times, p. 1; S. R. Nathan sworn in as president. (1999, September 2). The Business Times, p. 2. Retrieved from NewspaperSG.37. Ng, T. (2005). Ong Teng Cheong: Planner, politician, president. Singapore: Editions Didier Millet; Singapore Heritage Society, p. 123. (Call no.: RSING q959.5705092 NG-[HIS])38. Ex-President Ong dies. (2002, February 9). The Straits Times, p. 1. Retrieved from NewspaperSG.39. Ex-president’s legacy lives on as NTUC renames institute. (2002, February 9). Today, p. 3. Retrieved from NewspaperSG; Labour movement aims to keep job losses below 29,000 this year. (2009, January 29). Channel NewsAsia. Retrieved from Factiva via NLB’s eResources website: http://eresources.nlb.gov.sg/40. Ng, T. (2005).  Ong Teng Cheong: Planner, politician, president. Singapore: Editions Didier Millet in association with Singapore Heritage Society, pp. 17, 122, 146. (Call no.: RSING q959.5705092 NG-[HIS])41. Ng, T. (2005).  Ong Teng Cheong: Planner, politician, president. Singapore: Editions Didier Millet in association with Singapore Heritage Society, p. 11. (Call no.: RSING q959.5705092 NG-[HIS])42. Ng, T. (2005).  Ong Teng Cheong: Planner, politician, president. Singapore: Editions Didier Millet in association with Singapore Heritage Society, p. 146. (Call no.: RSING q959.5705092 NG-[HIS])43. Ng, T. (2005).  Ong Teng Cheong: Planner, politician, president. Singapore: Editions Didier Millet in association with Singapore Heritage Society, p. 146. (Call no.: RSING q959.5705092 NG-[HIS]); President’s Office, Republic of Singapore. (2013, January 25). Mr Ong Teng Cheong. Retrieved from The Istana website: http://www.istana.gov.sg/the-president/former-presidents/mr-ong-teng-cheong44. Ng, T. (2005).  Ong Teng Cheong: Planner, politician, president. Singapore: Editions Didier Millet in association with Singapore Heritage Society, p. 146. (Call no.: RSING q959.5705092 NG-[HIS])45. Ng, T. (2005).  Ong Teng Cheong: Planner, politician, president. Singapore: Editions Didier Millet in association with Singapore Heritage Society, p. 146. (Call no.: RSING q959.5705092 NG-[HIS]); Henson, B. (1993, August 16). Presidency would be ‘extension of public role’. The Straits Times, p. 2. Retrieved from NewspaperSG.46. President’s Office. (2013, January 25). Mr Ong Teng Cheong. Retrieved from The Istana website:  http://www.istana.gov.sg/the-president/former-presidents/mr-ong-teng-cheong; Ministry of Culture. (1978, June 30). Government press statement. Retrieved from National Archives of Singapore website: http://www.nas.gov.sg/archivesonline47. Ministry of culture. (1977, September 25). Statement from the Prime Minister’s Office [Press release]. Retrieved from National Archives of Singapore website: http://www.nas.gov.sg/archivesonline; Fong, L. (1981, January 6). Toh not in new cabinet. The Straits Times, p. 1. Retrieved from NewspaperSG.48. Ng, T. (2005).  Ong Teng Cheong: Planner, politician, president. Singapore: Editions Didier Millet in association with Singapore Heritage Society, pp. 84, 146. (Call no.: RSING q959.5705092 NG-[HIS])49. Ng, T. (2005).  Ong Teng Cheong: Planner, politician, president. Singapore: Editions Didier Millet in association with Singapore Heritage Society, p. 146. (Call no.: RSING q959.5705092 NG-[HIS]); Lee, Y. M. (1981, January 6). Composition of new cabinet. The Business Times, p. 1. Retrieved from NewspaperSG.50. Ngoo, I. (1981, January 11). Turning point for the PAP. The Straits Times, p. 1; Ong Teng Cheong tenders resignation as PAP chairman. (1993, August 6). The Business Times, p. 2. Retrieved from NewspaperSG.51. Ng, T. (2005).  Ong Teng Cheong: Planner, politician, president. Singapore: Editions Didier Millet in association with Singapore Heritage Society, p. 146. (Call no.: RSING q959.5705092 NG-[HIS]); Teo, A. (1993, August 31). Teng Cheong resigns as NTUC chief, Lim Boon Heng invited to take his place. The Business Times, p. 2. Retrieved from NewspaperSG.52. Lee, K. C. (1983, April 13). Chee Onn out as NTUC chief. The Straits Times, p. 1; Walkovers for 7 cabinet ministers. (1984, December 12). Singapore Monitor, p. 1. Retrieved from NewspaperSG.53. Ng, T. (2005).  Ong Teng Cheong: Planner, politician, president. Singapore: Editions Didier Millet in association with Singapore Heritage Society, p. 146. (Call no.: RSING q959.5705092 NG-[HIS])54. Prime Minister’s Office. (1985, December 31). Statement from the Prime Minister’s Office [Press release]. Retrieved from National Archives of Singapore website: http://www.nas.gov.sg/archivesonline; Teo, A. (1990, November 27). PM Lee steps aside after 31 years in office. The Business Times, p. 1. Retrieved from NewspaperSG.55. President’s Office. (2013, January 25). Mr Ong Teng Cheong. Retrieved from The Istana website: http://www.istana.gov.sg/the-president/former-presidents/mr-ong-teng-cheong56. Ng, T. (2005).  Ong Teng Cheong: Planner, politician, president. Singapore: Editions Didier Millet in association with Singapore Heritage Society, p. 146. (Call no.: RSING q959.5705092 NG-[HIS])57. President Ong says ‘thank you’. (1999, September 1). The Straits Times, p. 1. Retrieved from NewspaperSG; President’s Office. (2013, January 25). Mr Ong Teng Cheong. Retrieved from The Istana website: http://www.istana.gov.sg/the-president/former-presidents/mr-ong-teng-cheong58. NUS Libraries. (n.d.). Our chancellors: Biographical sketch – Ong Teng Cheong (1993–1999). Retrieved from NUS Libraries website: http://www.lib.nus.edu.sg/nusbiodata/bioongtc.htm59. Ex-President Ong dies. (2002, February 9). The Straits Times, p. 1. Retrieved from NewspaperSG.Further resourcesMinistry of Information, Communications and the Arts. (1999, August 30). Speech by Prime Minister Goh Chok Tong at the farewell reception for President Ong Teng Cheong on Monday, 30 August 1999, at the Istana at 6.30 pm. Retrieved from National Archives of Singapore website: http://www.nas.gov.sg/archivesonlineMinistry of Information, Communications and the Arts. (1999, August 30). Speech by President Ong Teng Cheong at the farewell reception hosted by Prime Minister Goh Chok Tong in his honour on Monday, 30 August 1999, at the Istana at 6.30 pm. Retrieved from National Archives of Singapore website: http://www.nas.gov.sg/archivesonlineThe information in this article is valid as at 15 February 2016 and correct as far as we can ascertain from our sources. It is not intended to be an exhaustive or complete history of the subject. Please contact the Library for further reading materials on the topic.\", 'source': 'Singapore Infopedia', 'last_update_date': '15 February 2016'}}\n"
     ]
    }
   ],
   "source": [
    "import pandas as pd\n",
    "\n",
    "# Load the pickle file\n",
    "with open(\"infopedia.pickle\", \"rb\") as f:\n",
    "    data = pickle.load(f)\n",
    "\n",
    "# Print first few rows if it's a DataFrame\n",
    "if isinstance(data, list):  # If it's a list\n",
    "    print(data[:5])  # Show first 5 items\n",
    "elif isinstance(data, dict):  # If it's a dictionary\n",
    "    print({k: data[k] for k in list(data.keys())[:5]})  # Show first 5 keys and values\n",
    "else:\n",
    "    print(data)  # Print if it's another type"
   ]
  },
  {
   "cell_type": "code",
   "execution_count": 9,
   "id": "ef06630f-4b39-47e4-9d61-a6be47a4719c",
   "metadata": {
    "scrolled": true
   },
   "outputs": [
    {
     "name": "stdout",
     "output_type": "stream",
     "text": [
      "Documents loaded from pickle file.\n",
      "Combined Chroma vector store created and saved successfully!\n"
     ]
    },
    {
     "name": "stderr",
     "output_type": "stream",
     "text": [
      "C:\\Users\\minli\\AppData\\Local\\Temp\\ipykernel_20644\\2108106441.py:92: LangChainDeprecationWarning: Since Chroma 0.4.x the manual persistence method is no longer supported as docs are automatically persisted.\n",
      "  chroma_vector_store.persist()\n"
     ]
    }
   ],
   "source": [
    "import pickle\n",
    "import pandas as pd\n",
    "from langchain.text_splitter import RecursiveCharacterTextSplitter\n",
    "from langchain.embeddings import OpenAIEmbeddings\n",
    "from langchain.vectorstores import Chroma\n",
    "from langchain.schema import Document\n",
    "import os\n",
    "\n",
    "# Helper function to sanitize metadata\n",
    "def sanitize_metadata(metadata):\n",
    "    \"\"\"Ensure all metadata values are str, int, float, or bool (replace None with 'Unknown').\"\"\"\n",
    "    return {k: (v if isinstance(v, (str, int, float, bool)) else \"Unknown\") for k, v in metadata.items()}\n",
    "\n",
    "# Load Pickle File (Infopedia Articles)\n",
    "with open(\"infopedia.pickle\", \"rb\") as f:\n",
    "    infopedia_data = pickle.load(f)  # This is a dictionary\n",
    "\n",
    "# Convert Pickle Data into LangChain Document Objects\n",
    "infopedia_articles = []\n",
    "for title, details in infopedia_data.items():\n",
    "    metadata = sanitize_metadata({\n",
    "        'title': title,\n",
    "        'source': details.get('source', 'Unknown'),\n",
    "        'url': details.get('url', 'No URL'),\n",
    "        'last_update_date': details.get('last_update_date', 'Unknown')\n",
    "    })\n",
    "    infopedia_articles.append(Document(page_content=details[\"content\"], metadata=metadata))\n",
    "\n",
    "# Load Articles from CSV\n",
    "csv_file = \"roots_sg_articles_cleaned.csv\"\n",
    "df = pd.read_csv(csv_file)\n",
    "\n",
    "# Fill NaN values in 'text' column with an empty string or a default string\n",
    "df['text'] = df['text'].fillna('missing content')\n",
    "\n",
    "# Ensure 'text' column is a string\n",
    "df['text'] = df['text'].astype(str)\n",
    "\n",
    "# Convert CSV Data into LangChain Documents\n",
    "articles = []\n",
    "for _, row in df.iterrows():\n",
    "    metadata = sanitize_metadata({\n",
    "        'title': row['title'],\n",
    "        'source': row['source'],\n",
    "        'url': row['url']\n",
    "    })\n",
    "    articles.append(Document(page_content=row['text'], metadata=metadata))\n",
    "\n",
    "# Load Processed PDF Documents from Pickle File\n",
    "with open(\"textbooks.pkl\", \"rb\") as f:\n",
    "    pdf_documents = pickle.load(f)  # This should already be in LangChain Document format\n",
    "\n",
    "# Ensure metadata for PDF documents is sanitized\n",
    "pdf_documents = [\n",
    "    Document(page_content=doc.page_content, metadata=sanitize_metadata(doc.metadata))\n",
    "    for doc in pdf_documents\n",
    "]\n",
    "\n",
    "print(\"Documents loaded from pickle file.\")\n",
    "\n",
    "# Combine All Document Sources (CSV, Infopedia, and PDF)\n",
    "all_documents = articles + infopedia_articles + pdf_documents\n",
    "\n",
    "# Step 3: Chunk the Documents\n",
    "text_splitter = RecursiveCharacterTextSplitter(\n",
    "    chunk_size=800, \n",
    "    chunk_overlap=100,\n",
    "    separators=[\".\", \"!\", \"?\", \",\", \"\\n\\n\", \"\\n\", \" \", \"\"]\n",
    ")\n",
    "all_chunks = []\n",
    "\n",
    "for doc in all_documents:\n",
    "    splits = text_splitter.split_text(doc.page_content)\n",
    "    for split in splits:\n",
    "        all_chunks.append({\n",
    "            \"text\": split,\n",
    "            \"metadata\": doc.metadata  # Metadata is already sanitized\n",
    "        })\n",
    "\n",
    "# Step 4: Generate Embeddings\n",
    "embeddings = OpenAIEmbeddings(model=\"text-embedding-3-small\", openai_api_key=OPENAI_API_KEY)\n",
    "\n",
    "# Step 5: Create the Combined Chroma Vector Store\n",
    "chroma_vector_store = Chroma.from_texts(\n",
    "    [chunk[\"text\"] for chunk in all_chunks], \n",
    "    embeddings, \n",
    "    metadatas=[chunk[\"metadata\"] for chunk in all_chunks],\n",
    "    collection_name=\"combined_documents\"\n",
    ")\n",
    "\n",
    "# Step 6: Save the Combined Vector Store\n",
    "chroma_vector_store.persist()\n",
    "print(\"Combined Chroma vector store created and saved successfully!\")\n"
   ]
  },
  {
   "cell_type": "code",
   "execution_count": 16,
   "id": "bedbac99-65de-49fb-be20-7951a0c33b2e",
   "metadata": {},
   "outputs": [
    {
     "name": "stdout",
     "output_type": "stream",
     "text": [
      "AI Answer:\n",
      "Response:\n",
      "\n",
      "The question of who is the founder of Singapore is a complex one that has been debated by historians and scholars over the years. While there is no definitive answer, it is generally accepted that Sir Stamford Raffles played a significant role in the founding of modern Singapore.\n",
      "\n",
      "Sir Stamford Raffles was a British statesman and colonial administrator who is credited with establishing a British settlement on the island of Singapore in 1819. He signed a treaty with the local Malay rulers that allowed the British East India Company to set up a trading post in the region. This marked the beginning of British colonial rule in Singapore.\n",
      "\n",
      "However, it is important to note that Singapore has a long history that predates the arrival of Raffles. The island was known to have been inhabited by indigenous Malay and Orang Laut communities for centuries before the arrival of the British. Additionally, Singapore was part of the Malay Archipelago and had been a trading hub for various regional powers such as the Srivijaya and Majapahit empires.\n",
      "\n",
      "Therefore, while Raffles is often credited as the founder of modern Singapore due to his role in establishing the British settlement, it is essential to acknowledge the contributions of the indigenous communities and the historical context in which Singapore emerged as a multicultural and cosmopolitan society.\n",
      "\n",
      "In conclusion, the question of who is the founder of Singapore is not a straightforward one and involves multiple perspectives. By considering the various historical factors and sources, educators can provide a more comprehensive and balanced understanding of Singapore's history and cultural heritage to their students.\n",
      "\n",
      "Referenced Sources:\n"
     ]
    }
   ],
   "source": [
    "import os\n",
    "from langchain.prompts import PromptTemplate\n",
    "from langchain.chat_models import ChatOpenAI\n",
    "from langchain.schema.runnable import RunnableLambda\n",
    "from langchain.vectorstores import Chroma\n",
    "\n",
    "# Load the existing ChromaDB vector store\n",
    "vector_store = Chroma(persist_directory=\"./chroma_db\", embedding_function=OpenAIEmbeddings())\n",
    "\n",
    "# Function to query from the vector store\n",
    "def answer_question_from_vectorstore(vector_store, input_question):\n",
    "    prompt = PromptTemplate.from_template(\n",
    "        template=\"\"\"\n",
    "You are the Heritage Education Research Assistant, an AI-powered tool designed to help educators in Singapore create comprehensive and balanced lesson plans about Singapore's history and culture. Your task is to provide multiple perspectives on historical questions, with a focus on validated sources from the National Heritage Board (NHB) and other reputable institutions.\n",
    "\n",
    "Context: {context}\n",
    "\n",
    "Question: {question}\n",
    "\n",
    "Provide a well-structured response based on the given context.\n",
    "        \"\"\"\n",
    "    )\n",
    "\n",
    "    def format_docs(docs):\n",
    "        return \"\\n\\n\".join(doc.page_content for doc in docs)\n",
    "\n",
    "    # Retrieve the top-k most relevant documents\n",
    "    retriever = vector_store.as_retriever(search_kwargs={\"k\": 10})\n",
    "    retrieved_docs = retriever.invoke(input_question)\n",
    "\n",
    "    formatted_context = format_docs(retrieved_docs)\n",
    "\n",
    "    rag_chain_from_docs = (\n",
    "        RunnableLambda(lambda x: {\"context\": x[\"context\"], \"question\": x[\"question\"]})\n",
    "        | prompt\n",
    "        | ChatOpenAI(temperature=0, openai_api_key=os.getenv(\"OPENAI_API_KEY\"))\n",
    "    )\n",
    "\n",
    "    result = rag_chain_from_docs.invoke({\"context\": formatted_context, \"question\": input_question})\n",
    "    \n",
    "    return {\"answer\": result.content, \"context\": retrieved_docs}\n",
    "\n",
    "# Test query\n",
    "question = \"Who is the founder of Singapore?\"\n",
    "response = answer_question_from_vectorstore(vector_store, question)\n",
    "\n",
    "# Display AI Answer\n",
    "print(\"AI Answer:\")\n",
    "print(response[\"answer\"])\n",
    "print(\"\\nReferenced Sources:\")\n",
    "\n",
    "# Print each referenced document with all metadata\n",
    "for doc in response[\"context\"]:\n",
    "    print(\"\\nMetadata:\")\n",
    "    for key, value in doc.metadata.items():\n",
    "        print(f\"{key.capitalize()}: {value if value else 'Unknown'}\")  # Ensure empty values are replaced\n",
    "    \n",
    "    # Print an excerpt of the page content\n",
    "    print(\"\\nPage Content:\\n\", doc.page_content[:500], \"...\\n\")  # Print only the first 500 characters\n"
   ]
  },
  {
   "cell_type": "code",
   "execution_count": 17,
   "id": "ccfde791-0e66-4ec0-8631-0d8d50fa5142",
   "metadata": {},
   "outputs": [
    {
     "name": "stdout",
     "output_type": "stream",
     "text": [
      "\n",
      "DEBUG: Retrieved Documents Metadata\n",
      "\n",
      "AI Answer:\n",
      "Response:\n",
      "\n",
      "The question of who is the founder of Singapore is a complex one that has been debated by historians and scholars over the years. While there is no definitive answer, it is generally accepted that Sir Stamford Raffles played a significant role in the founding of modern Singapore.\n",
      "\n",
      "Sir Stamford Raffles was a British statesman and colonial administrator who is credited with establishing a British settlement on the island of Singapore in 1819. He signed a treaty with the local Malay rulers, allowing the British East India Company to set up a trading post in the region. This marked the beginning of British colonial rule in Singapore.\n",
      "\n",
      "However, it is important to note that Singapore has a long history that predates the arrival of Raffles. The island was known to have been inhabited by indigenous Malay and Orang Laut communities for centuries before the arrival of the British. Additionally, Singapore was part of the Malay Archipelago and had been a trading hub for various regional powers, including the Srivijaya and Majapahit empires.\n",
      "\n",
      "Therefore, while Raffles is often credited as the founder of modern Singapore due to his role in establishing the British settlement, it is essential to acknowledge the contributions of the indigenous communities and the historical context in which Singapore emerged as a multicultural and cosmopolitan society.\n",
      "\n",
      "In conclusion, the question of who is the founder of Singapore is a nuanced one that requires a comprehensive understanding of the island's history and the various factors that shaped its development. By considering multiple perspectives and consulting validated sources from institutions like the National Heritage Board, educators can provide a more balanced and accurate portrayal of Singapore's founding story in their lesson plans.\n",
      "\n",
      "Referenced Sources:\n"
     ]
    }
   ],
   "source": [
    "import os\n",
    "from langchain.prompts import PromptTemplate\n",
    "from langchain.chat_models import ChatOpenAI\n",
    "from langchain.schema.runnable import RunnableLambda\n",
    "from langchain.vectorstores import Chroma\n",
    "\n",
    "# Load the existing ChromaDB vector store\n",
    "vector_store = Chroma(persist_directory=\"./chroma_db\", embedding_function=OpenAIEmbeddings())\n",
    "\n",
    "# Function to query from the vector store\n",
    "def answer_question_from_vectorstore(vector_store, input_question):\n",
    "    prompt = PromptTemplate.from_template(\n",
    "        template=\"\"\"\n",
    "You are the Heritage Education Research Assistant, an AI-powered tool designed to help educators in Singapore create comprehensive and balanced lesson plans about Singapore's history and culture. Your task is to provide multiple perspectives on historical questions, with a focus on validated sources from the National Heritage Board (NHB) and other reputable institutions.\n",
    "\n",
    "Context: {context}\n",
    "\n",
    "Question: {question}\n",
    "\n",
    "Provide a well-structured response based on the given context.\n",
    "        \"\"\"\n",
    "    )\n",
    "\n",
    "    def format_docs(docs):\n",
    "        return \"\\n\\n\".join(doc.page_content for doc in docs)\n",
    "\n",
    "    # Retrieve the top-k most relevant documents\n",
    "    retriever = vector_store.as_retriever(search_kwargs={\"k\": 10})\n",
    "    retrieved_docs = retriever.invoke(input_question)\n",
    "\n",
    "    # Debug: Print retrieved metadata to check if it's correctly stored\n",
    "    print(\"\\nDEBUG: Retrieved Documents Metadata\")\n",
    "    for i, doc in enumerate(retrieved_docs):\n",
    "        print(f\"\\nDocument {i+1} Metadata:\")\n",
    "        for key, value in doc.metadata.items():\n",
    "            print(f\"{key}: {value}\")\n",
    "\n",
    "    formatted_context = format_docs(retrieved_docs)\n",
    "\n",
    "    rag_chain_from_docs = (\n",
    "        RunnableLambda(lambda x: {\"context\": x[\"context\"], \"question\": x[\"question\"]})\n",
    "        | prompt\n",
    "        | ChatOpenAI(temperature=0, openai_api_key=os.getenv(\"OPENAI_API_KEY\"))\n",
    "    )\n",
    "\n",
    "    result = rag_chain_from_docs.invoke({\"context\": formatted_context, \"question\": input_question})\n",
    "    \n",
    "    return {\"answer\": result.content, \"context\": retrieved_docs}\n",
    "\n",
    "# Test query\n",
    "question = \"Who is the founder of Singapore?\"\n",
    "response = answer_question_from_vectorstore(vector_store, question)\n",
    "\n",
    "# Display AI Answer\n",
    "print(\"\\nAI Answer:\")\n",
    "print(response[\"answer\"])\n",
    "print(\"\\nReferenced Sources:\")\n",
    "\n",
    "# Print each referenced document with all metadata\n",
    "for doc in response[\"context\"]:\n",
    "    print(\"\\nMetadata:\")\n",
    "    if doc.metadata:\n",
    "        for key, value in doc.metadata.items():\n",
    "            print(f\"{key.capitalize()}: {value if value else 'Unknown'}\")  # Replace None values\n",
    "    else:\n",
    "        print(\"No metadata available for this document.\")\n",
    "\n",
    "    # Print an excerpt of the page content\n",
    "    print(\"\\nPage Content:\\n\", doc.page_content[:500], \"...\\n\")  # Print only the first 500 characters\n"
   ]
  },
  {
   "cell_type": "code",
   "execution_count": 23,
   "id": "66d390e6-f8c1-42e9-82d7-b160c9a696bc",
   "metadata": {},
   "outputs": [
    {
     "name": "stdout",
     "output_type": "stream",
     "text": [
      "\n",
      "Document 1:\n",
      "Text: TL;DR\n",
      "A mythical creature from ancient Chinese mythology that found expression through a ritual dance in Hakka culture struggles to find its place in the modern city-state.\n",
      "MUSESG Volume 16 Issue 2 - July 2023\n",
      "Text by Angela Sim, Heritage Researcher\n",
      "Read the full MUSE SG Vol 16, Issue 2\n",
      "Image above: ...\n",
      "Metadata: {'title': 'High Leaps And Clashing Cymbals', 'source': 'Roots Website', 'url': 'https://www.roots.gov.sg/stories-landing/stories/high-leaps-and-clashing-cymbals/story'}\n",
      "\n",
      "Document 2:\n",
      "Text: .\n",
      "In his adulthood, Confucius himself chanced upon the same creature when it was captured in a royal hunt. After the encounter, the sage predicted the end of his life; true to his word, he passed away three years later. What is the story behind this sacred chimera that foretold the birth and passing ...\n",
      "Metadata: {'title': 'High Leaps And Clashing Cymbals', 'source': 'Roots Website', 'url': 'https://www.roots.gov.sg/stories-landing/stories/high-leaps-and-clashing-cymbals/story'}\n",
      "\n",
      "Document 3:\n",
      "Text: . It has been depicted in diverse ways, depending on the source.2 The scholar, Jing Fang (77â€“37 BCE), described the qilin as approximately two metres tall and having five colours, including a yellow underbelly.3 Another contemporary, Liu Xiang (77â€“6 BCE), wrote in his book Shuoyuan (èªªè‹‘) that ...\n",
      "Metadata: {'title': 'High Leaps And Clashing Cymbals', 'source': 'Roots Website', 'url': 'https://www.roots.gov.sg/stories-landing/stories/high-leaps-and-clashing-cymbals/story'}\n",
      "\n",
      "Document 4:\n",
      "Text: . Apparently, when it walks, it glides over grass, careful not to trample on any insects in its path.5\n",
      "The depiction of the qilin as a unicorn only began in the Qing dynasty (1644â€“1912). In the Ming era (1368â€“1644), it had been portrayed with scales covering its deerlike body.6 Though sometimes  ...\n",
      "Metadata: {'title': 'High Leaps And Clashing Cymbals', 'source': 'Roots Website', 'url': 'https://www.roots.gov.sg/stories-landing/stories/high-leaps-and-clashing-cymbals/story'}\n",
      "\n",
      "Document 5:\n",
      "Text: . Yet, despite its aggressive demeanour, there is a gentleness to the creature. The qilin is also believed to be an excellent judge of character, being associated with righteousness, benevolence and virtue.7 \n",
      "Qilin: Here, There and Everywhere\n",
      "In Ming-dynasty China (1368â€“1644), nobility and the emp ...\n",
      "Metadata: {'title': 'High Leaps And Clashing Cymbals', 'source': 'Roots Website', 'url': 'https://www.roots.gov.sg/stories-landing/stories/high-leaps-and-clashing-cymbals/story'}\n"
     ]
    }
   ],
   "source": [
    "chroma_vector_store = Chroma.from_texts(\n",
    "    [chunk[\"text\"] for chunk in all_chunks], \n",
    "    embeddings, \n",
    "    metadatas=[chunk[\"metadata\"] for chunk in all_chunks],  # Ensure metadata is stored\n",
    "    collection_name=\"combined_documents\"\n",
    ")\n",
    "\n",
    "# Debug: Print first 5 documents to check if they were saved\n",
    "for i, chunk in enumerate(all_chunks[:5]):\n",
    "    print(f\"\\nDocument {i+1}:\")\n",
    "    print(\"Text:\", chunk[\"text\"][:300], \"...\")\n",
    "    print(\"Metadata:\", chunk[\"metadata\"])\n",
    "\n"
   ]
  },
  {
   "cell_type": "markdown",
   "id": "5668850e-f4df-4d73-af7b-62a4ad602cd7",
   "metadata": {},
   "source": [
    "## Integrating Websearch Features...???"
   ]
  },
  {
   "cell_type": "code",
   "execution_count": 30,
   "id": "52fb788b-d05b-47d8-8e88-5a6086d4b7af",
   "metadata": {},
   "outputs": [
    {
     "name": "stderr",
     "output_type": "stream",
     "text": [
      "C:\\Users\\minli\\anaconda3\\Lib\\site-packages\\langchain_community\\utilities\\duckduckgo_search.py:64: UserWarning: backend='api' is deprecated, using backend='auto'\n",
      "  ddgs_gen = ddgs.text(\n"
     ]
    },
    {
     "data": {
      "text/plain": [
       "'The history of the modern state of Singapore dates back to its founding in the early 19th century; however, evidence suggests that a significant trading settlement existed on the island in the 14th century. The last ruler of the Kingdom of Singapura, Parameswara, was expelled by the Majapahit or the Siamese before he founded Malacca. History of Singapore, a survey of the important events and people in the history of Singapore. Located at the southern tip of the Malay Peninsula, Singapore is the largest port city in Southeast Asia and one of the busiest in the world. It owes its growth and prosperity to its position at the Lee Kuan Yew was a politician and lawyer who was the first prime minister of Singapore, serving from 1959 to 1990. During his long rule, Singapore became the most prosperous country in Southeast Asia. Learn more about Lee\\'s life and political career in this article. Lee Kuan Yew is widely recognized as the founding father of Singapore. He co-founded the People\\'s Action Party in 1954, and led his party to its first electoral victory in the 1959 election. He was appointed as the state\\'s first prime minister and served in that position from 1959 to 1990. Lee was born on 16 September 1923 in Singapore, during British colonial rule, and was originally ... Singapore - British Colony, Trade Hub, Modern City: Singapore Island originally was inhabited by fishermen and pirates, and it served as an outpost for the Sumatran empire of Srīvijaya. In Javanese inscriptions and Chinese records dating to the end of the 14th century, the more-common name of the island is Tumasik, or Temasek, from the Javanese word tasek (\"sea\"). Rajendra Chola I, ruler ...'"
      ]
     },
     "execution_count": 30,
     "metadata": {},
     "output_type": "execute_result"
    }
   ],
   "source": [
    "from langchain_community.tools import DuckDuckGoSearchRun\n",
    "\n",
    "search = DuckDuckGoSearchRun()\n",
    "\n",
    "search.invoke(\"Who is the founder of Singapore?\")"
   ]
  },
  {
   "cell_type": "code",
   "execution_count": 29,
   "id": "b544c59b-7a75-47ae-b1de-f32705615d96",
   "metadata": {},
   "outputs": [
    {
     "name": "stderr",
     "output_type": "stream",
     "text": [
      "C:\\Users\\minli\\anaconda3\\Lib\\site-packages\\langchain_community\\utilities\\duckduckgo_search.py:64: UserWarning: backend='api' is deprecated, using backend='auto'\n",
      "  ddgs_gen = ddgs.text(\n"
     ]
    },
    {
     "data": {
      "text/plain": [
       "\"snippet: The history of the modern state of Singapore dates back to its founding in the early 19th century; however, evidence suggests that a significant trading settlement existed on the island in the 14th century. The last ruler of the Kingdom of Singapura, Parameswara, was expelled by the Majapahit or the Siamese before he founded Malacca.Singapore then came under the Malacca Sultanate and ..., title: History of Singapore - Wikipedia, link: https://en.wikipedia.org/wiki/History_of_Singapore, snippet: Lee Kuan Yew (born September 16, 1923, Singapore—died March 23, 2015, Singapore) was a politician and lawyer who was prime minister of Singapore from 1959 to 1990. Widely regarded as the founding father of modern Singapore, Lee transformed the city-state from a small, resource-deficient British colony with high rates of illiteracy into the most prosperous country in Southeast Asia., title: Lee Kuan Yew | Biography, Education, Achievements, & Facts - Britannica, link: https://www.britannica.com/biography/Lee-Kuan-Yew, snippet: history of Singapore, a survey of the important events and people in the history of Singapore.Located at the southern tip of the Malay Peninsula, Singapore is the largest port city in Southeast Asia and one of the busiest in the world. It owes its growth and prosperity to its position at the southern extremity of the peninsula, where it dominates the Strait of Malacca, which connects the ..., title: History of Singapore | People, Culture, Language, & Facts | Britannica, link: https://www.britannica.com/topic/history-of-Singapore, snippet: 15 Most Famous People from Singapore Originally published by Lynn in February 2022. Updated by Charity K in May 2023. Updated by Ruth in March 2024. The island city-state is located off the southern tip ... Lee Kuan Yew is widely recognized as the founding father of Singapore. He co-founded the People's Action Party in 1954, and led his party ..., title: 15 Most Famous People from Singapore - Discover Walks Blog, link: https://www.discoverwalks.com/blog/singapour/10-famous-people-in-singapore/\""
      ]
     },
     "execution_count": 29,
     "metadata": {},
     "output_type": "execute_result"
    }
   ],
   "source": [
    "from langchain_community.tools import DuckDuckGoSearchResults\n",
    "\n",
    "search = DuckDuckGoSearchResults(output_format=\"list\")\n",
    "\n",
    "search.invoke(\"Who is the founder of Singapore?\")"
   ]
  },
  {
   "cell_type": "code",
   "execution_count": 33,
   "id": "d361efa4-421f-4189-a0c0-bf54c10a35a5",
   "metadata": {},
   "outputs": [
    {
     "name": "stderr",
     "output_type": "stream",
     "text": [
      "C:\\Users\\minli\\anaconda3\\Lib\\site-packages\\langchain_community\\utilities\\duckduckgo_search.py:64: UserWarning: backend='api' is deprecated, using backend='auto'\n",
      "  ddgs_gen = ddgs.text(\n"
     ]
    },
    {
     "data": {
      "text/plain": [
       "\"snippet: The history of the modern state of Singapore dates back to its founding in the early 19th century; however, evidence suggests that a significant trading settlement existed on the island in the 14th century. The last ruler of the Kingdom of Singapura, Parameswara, was expelled by the Majapahit or the Siamese before he founded Malacca.Singapore then came under the Malacca Sultanate and ..., title: History of Singapore - Wikipedia, link: https://en.wikipedia.org/wiki/History_of_Singapore, snippet: history of Singapore, a survey of the important events and people in the history of Singapore.Located at the southern tip of the Malay Peninsula, Singapore is the largest port city in Southeast Asia and one of the busiest in the world. It owes its growth and prosperity to its position at the southern extremity of the peninsula, where it dominates the Strait of Malacca, which connects the ..., title: History of Singapore | People, Culture, Language, & Facts | Britannica, link: https://www.britannica.com/topic/history-of-Singapore, snippet: Lee Kuan Yew (born September 16, 1923, Singapore—died March 23, 2015, Singapore) was a politician and lawyer who was prime minister of Singapore from 1959 to 1990. Widely regarded as the founding father of modern Singapore, Lee transformed the city-state from a small, resource-deficient British colony with high rates of illiteracy into the most prosperous country in Southeast Asia., title: Lee Kuan Yew | Biography, Education, Achievements, & Facts - Britannica, link: https://www.britannica.com/biography/Lee-Kuan-Yew, snippet: 15 Most Famous People from Singapore Originally published by Lynn in February 2022. Updated by Charity K in May 2023. Updated by Ruth in March 2024. The island city-state is located off the southern tip ... Lee Kuan Yew is widely recognized as the founding father of Singapore. He co-founded the People's Action Party in 1954, and led his party ..., title: 15 Most Famous People from Singapore - Discover Walks Blog, link: https://www.discoverwalks.com/blog/singapour/10-famous-people-in-singapore/\""
      ]
     },
     "execution_count": 33,
     "metadata": {},
     "output_type": "execute_result"
    }
   ],
   "source": [
    "from langchain_community.utilities import DuckDuckGoSearchAPIWrapper\n",
    "\n",
    "wrapper = DuckDuckGoSearchAPIWrapper(region=\"sg-en\", max_results=2)\n",
    "\n",
    "search = DuckDuckGoSearchResults(api_wrapper=wrapper, source=\"news\")\n",
    "\n",
    "search.invoke(\"who is the founder of Singapore?\")"
   ]
  },
  {
   "cell_type": "code",
   "execution_count": null,
   "id": "1288787f-5ce8-404a-a492-d1fc6db391c8",
   "metadata": {},
   "outputs": [],
   "source": []
  }
 ],
 "metadata": {
  "kernelspec": {
   "display_name": "Python 3 (ipykernel)",
   "language": "python",
   "name": "python3"
  },
  "language_info": {
   "codemirror_mode": {
    "name": "ipython",
    "version": 3
   },
   "file_extension": ".py",
   "mimetype": "text/x-python",
   "name": "python",
   "nbconvert_exporter": "python",
   "pygments_lexer": "ipython3",
   "version": "3.11.7"
  }
 },
 "nbformat": 4,
 "nbformat_minor": 5
}
